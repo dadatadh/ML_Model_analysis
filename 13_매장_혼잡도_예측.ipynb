{
  "nbformat": 4,
  "nbformat_minor": 0,
  "metadata": {
    "colab": {
      "provenance": []
    },
    "kernelspec": {
      "name": "python3",
      "display_name": "Python 3"
    },
    "language_info": {
      "name": "python"
    }
  },
  "cells": [
    {
      "cell_type": "markdown",
      "source": [
        "# **ML 13**  \n",
        "**┗ 매장 방문 혼잡도 예측**\n",
        "---\n",
        "> **목차(Context)**\n",
        "\n",
        "* 문제상황 및 데이터 살펴보기\n",
        "* 문제해결 프로세스 정의\n",
        "* 🥉Session 1 - 「요일별 특성 파악」\n",
        "* 🥈Session 2 - 「메뉴 데이터 처리」\n",
        "* 🥇Session 3 - 「식수 인원 예측」"
      ],
      "metadata": {
        "id": "FmLxknWTcYFm"
      }
    },
    {
      "cell_type": "code",
      "source": [
        "# 한글 폰트 설치 후 런타임 재시작\n",
        "!sudo apt-get install -y fonts-nanum\n",
        "!sudo fc-cache -fv\n",
        "!rm ~/.cache/matplotlib -rf"
      ],
      "metadata": {
        "id": "749BUdluY5R1"
      },
      "execution_count": null,
      "outputs": []
    },
    {
      "cell_type": "code",
      "source": [
        "# ▶ Warnings 제거\n",
        "import warnings\n",
        "warnings.filterwarnings('ignore')\n",
        "\n",
        "# ▶ Google drive mount or 폴더 클릭 후 구글드라이브 연결\n",
        "from google.colab import drive\n",
        "drive.mount('/content/drive')\n"
      ],
      "metadata": {
        "colab": {
          "base_uri": "https://localhost:8080/"
        },
        "id": "zVOEDVxQcb_L",
        "outputId": "af604f72-d417-4582-c596-17a8bb7f3f0c"
      },
      "execution_count": 1,
      "outputs": [
        {
          "output_type": "stream",
          "name": "stdout",
          "text": [
            "Mounted at /content/drive\n"
          ]
        }
      ]
    },
    {
      "cell_type": "code",
      "source": [
        "\n",
        "# ▶ 경로 설정 (※ Colab을 활성화시켰다면 보통 Colab Notebooks 폴더가 자동 생성)\n",
        "import os\n",
        "os.chdir('/content/drive/MyDrive/데이터분석/파이썬_실습/ML 실습/ML실습/ML실습/13_매장 방문 혼잡도 예측')\n",
        "os.getcwd()"
      ],
      "metadata": {
        "colab": {
          "base_uri": "https://localhost:8080/",
          "height": 35
        },
        "id": "ZJ5cro_jmyR6",
        "outputId": "9a478f24-1604-4f82-c2a7-50ba8f1a00c3"
      },
      "execution_count": 2,
      "outputs": [
        {
          "output_type": "execute_result",
          "data": {
            "text/plain": [
              "'/content/drive/MyDrive/데이터분석/파이썬_실습/ML 실습/ML실습/ML실습/13_매장 방문 혼잡도 예측'"
            ],
            "application/vnd.google.colaboratory.intrinsic+json": {
              "type": "string"
            }
          },
          "metadata": {},
          "execution_count": 2
        }
      ]
    },
    {
      "cell_type": "markdown",
      "source": [
        "## **문제상황 및 데이터 살펴보기**\n",
        "---\n",
        "> **시나리오** 🍲😲 (매장관리자)\n",
        "\n",
        "```\n",
        "A매장 관리자는 요즘 음식 재고로 인하여 골치를 썩고 있다. 매번 식수를 예측하지만 어떤 날은 적게,  \n",
        "어떤 날은 많게 오는 경우가 허다하여 재고관리측면에서 손실을 보고 있다.  \n",
        "메뉴 정보와 근무자의 정보 Data를 활용하여 식수를 예측하고 재고를 효율적으로 관리하려고 한다.\n",
        "\n",
        "```  "
      ],
      "metadata": {
        "id": "JoXxSoYhcodE"
      }
    },
    {
      "cell_type": "markdown",
      "source": [
        "> **데이터 살펴보기**\n",
        "\n",
        "* 본사 근무자 현황과 식사메뉴 데이터\n",
        "* 데이터 명세 ⬇\n",
        "\n",
        "|일자|요일|본사 정원수|본사 휴가자수|본사 출장자수|본사 시간외근무 명령서 승인건수|\n",
        "|:---:|:---:|:---:|:---:|:---:|:---:|\n",
        "|현 본사 소속 재택근무자수|조식메뉴|중식메뉴|석식메뉴|중식계|석식계|\n"
      ],
      "metadata": {
        "id": "ELuWbx4Hd_pF"
      }
    },
    {
      "cell_type": "code",
      "source": [
        "# ▶ Data read\n",
        " #encoding 옵셥을 통해 한글이 이상하게 표기되는 현상 해결\n",
        "import pandas as pd\n",
        "df = pd.read_csv('13_congestion.csv', encoding='cp949')\n",
        "df.head(5)"
      ],
      "metadata": {
        "colab": {
          "base_uri": "https://localhost:8080/",
          "height": 414
        },
        "id": "4dwYRmo2eB7j",
        "outputId": "3f75a111-9c91-4288-811e-8b7171a8471a"
      },
      "execution_count": 3,
      "outputs": [
        {
          "output_type": "execute_result",
          "data": {
            "text/plain": [
              "           일자 요일  본사정원수  본사휴가자수  본사출장자수  본사시간외근무명령서승인건수  현본사소속재택근무자수  \\\n",
              "0  2016-02-01  월   2601      50     150             238          0.0   \n",
              "1  2016-02-02  화   2601      50     173             319          0.0   \n",
              "2  2016-02-03  수   2601      56     180             111          0.0   \n",
              "3  2016-02-04  목   2601     104     220             355          0.0   \n",
              "4  2016-02-05  금   2601     278     181              34          0.0   \n",
              "\n",
              "                                                조식메뉴  \\\n",
              "0  모닝롤/찐빵  우유/두유/주스 계란후라이  호두죽/쌀밥 (쌀:국내산) 된장찌개  쥐...   \n",
              "1  모닝롤/단호박샌드  우유/두유/주스 계란후라이  팥죽/쌀밥 (쌀:국내산) 호박젓국찌...   \n",
              "2  모닝롤/베이글  우유/두유/주스 계란후라이  표고버섯죽/쌀밥 (쌀:국내산) 콩나물국...   \n",
              "3  모닝롤/토마토샌드  우유/두유/주스 계란후라이  닭죽/쌀밥 (쌀,닭:국내산) 근대국...   \n",
              "4  모닝롤/와플  우유/두유/주스 계란후라이  쇠고기죽/쌀밥 (쌀:국내산) 재첩국  방...   \n",
              "\n",
              "                                                중식메뉴  \\\n",
              "0  쌀밥/잡곡밥 (쌀,현미흑미:국내산) 오징어찌개  쇠불고기 (쇠고기:호주산) 계란찜 ...   \n",
              "1  쌀밥/잡곡밥 (쌀,현미흑미:국내산) 김치찌개  가자미튀김  모둠소세지구이  마늘쫑무...   \n",
              "2  카레덮밥 (쌀,현미흑미:국내산) 팽이장국  치킨핑거 (닭고기:국내산) 쫄면야채무침 ...   \n",
              "3  쌀밥/잡곡밥 (쌀,현미흑미:국내산) 쇠고기무국  주꾸미볶음  부추전  시금치나물  ...   \n",
              "4  쌀밥/잡곡밥 (쌀,현미흑미:국내산) 떡국  돈육씨앗강정 (돼지고기:국내산) 우엉잡채...   \n",
              "\n",
              "                                                석식메뉴     중식계    석식계  \n",
              "0  쌀밥/잡곡밥 (쌀,현미흑미:국내산) 육개장  자반고등어구이  두부조림  건파래무침 ...  1039.0  331.0  \n",
              "1  콩나물밥*양념장 (쌀,현미흑미:국내산) 어묵국  유산슬 (쇠고기:호주산) 아삭고추무...   867.0  560.0  \n",
              "2  쌀밥/잡곡밥 (쌀,현미흑미:국내산) 청국장찌개  황태양념구이 (황태:러시아산) 고기...  1017.0  573.0  \n",
              "3  미니김밥*겨자장 (쌀,현미흑미:국내산) 우동  멕시칸샐러드  군고구마  무피클  포...   978.0  525.0  \n",
              "4  쌀밥/잡곡밥 (쌀,현미흑미:국내산) 차돌박이찌개 (쇠고기:호주산) 닭갈비 (닭고기:...   925.0  330.0  "
            ],
            "text/html": [
              "\n",
              "  <div id=\"df-ac7693c0-b30f-4cfd-ab28-7e32935151f3\" class=\"colab-df-container\">\n",
              "    <div>\n",
              "<style scoped>\n",
              "    .dataframe tbody tr th:only-of-type {\n",
              "        vertical-align: middle;\n",
              "    }\n",
              "\n",
              "    .dataframe tbody tr th {\n",
              "        vertical-align: top;\n",
              "    }\n",
              "\n",
              "    .dataframe thead th {\n",
              "        text-align: right;\n",
              "    }\n",
              "</style>\n",
              "<table border=\"1\" class=\"dataframe\">\n",
              "  <thead>\n",
              "    <tr style=\"text-align: right;\">\n",
              "      <th></th>\n",
              "      <th>일자</th>\n",
              "      <th>요일</th>\n",
              "      <th>본사정원수</th>\n",
              "      <th>본사휴가자수</th>\n",
              "      <th>본사출장자수</th>\n",
              "      <th>본사시간외근무명령서승인건수</th>\n",
              "      <th>현본사소속재택근무자수</th>\n",
              "      <th>조식메뉴</th>\n",
              "      <th>중식메뉴</th>\n",
              "      <th>석식메뉴</th>\n",
              "      <th>중식계</th>\n",
              "      <th>석식계</th>\n",
              "    </tr>\n",
              "  </thead>\n",
              "  <tbody>\n",
              "    <tr>\n",
              "      <th>0</th>\n",
              "      <td>2016-02-01</td>\n",
              "      <td>월</td>\n",
              "      <td>2601</td>\n",
              "      <td>50</td>\n",
              "      <td>150</td>\n",
              "      <td>238</td>\n",
              "      <td>0.0</td>\n",
              "      <td>모닝롤/찐빵  우유/두유/주스 계란후라이  호두죽/쌀밥 (쌀:국내산) 된장찌개  쥐...</td>\n",
              "      <td>쌀밥/잡곡밥 (쌀,현미흑미:국내산) 오징어찌개  쇠불고기 (쇠고기:호주산) 계란찜 ...</td>\n",
              "      <td>쌀밥/잡곡밥 (쌀,현미흑미:국내산) 육개장  자반고등어구이  두부조림  건파래무침 ...</td>\n",
              "      <td>1039.0</td>\n",
              "      <td>331.0</td>\n",
              "    </tr>\n",
              "    <tr>\n",
              "      <th>1</th>\n",
              "      <td>2016-02-02</td>\n",
              "      <td>화</td>\n",
              "      <td>2601</td>\n",
              "      <td>50</td>\n",
              "      <td>173</td>\n",
              "      <td>319</td>\n",
              "      <td>0.0</td>\n",
              "      <td>모닝롤/단호박샌드  우유/두유/주스 계란후라이  팥죽/쌀밥 (쌀:국내산) 호박젓국찌...</td>\n",
              "      <td>쌀밥/잡곡밥 (쌀,현미흑미:국내산) 김치찌개  가자미튀김  모둠소세지구이  마늘쫑무...</td>\n",
              "      <td>콩나물밥*양념장 (쌀,현미흑미:국내산) 어묵국  유산슬 (쇠고기:호주산) 아삭고추무...</td>\n",
              "      <td>867.0</td>\n",
              "      <td>560.0</td>\n",
              "    </tr>\n",
              "    <tr>\n",
              "      <th>2</th>\n",
              "      <td>2016-02-03</td>\n",
              "      <td>수</td>\n",
              "      <td>2601</td>\n",
              "      <td>56</td>\n",
              "      <td>180</td>\n",
              "      <td>111</td>\n",
              "      <td>0.0</td>\n",
              "      <td>모닝롤/베이글  우유/두유/주스 계란후라이  표고버섯죽/쌀밥 (쌀:국내산) 콩나물국...</td>\n",
              "      <td>카레덮밥 (쌀,현미흑미:국내산) 팽이장국  치킨핑거 (닭고기:국내산) 쫄면야채무침 ...</td>\n",
              "      <td>쌀밥/잡곡밥 (쌀,현미흑미:국내산) 청국장찌개  황태양념구이 (황태:러시아산) 고기...</td>\n",
              "      <td>1017.0</td>\n",
              "      <td>573.0</td>\n",
              "    </tr>\n",
              "    <tr>\n",
              "      <th>3</th>\n",
              "      <td>2016-02-04</td>\n",
              "      <td>목</td>\n",
              "      <td>2601</td>\n",
              "      <td>104</td>\n",
              "      <td>220</td>\n",
              "      <td>355</td>\n",
              "      <td>0.0</td>\n",
              "      <td>모닝롤/토마토샌드  우유/두유/주스 계란후라이  닭죽/쌀밥 (쌀,닭:국내산) 근대국...</td>\n",
              "      <td>쌀밥/잡곡밥 (쌀,현미흑미:국내산) 쇠고기무국  주꾸미볶음  부추전  시금치나물  ...</td>\n",
              "      <td>미니김밥*겨자장 (쌀,현미흑미:국내산) 우동  멕시칸샐러드  군고구마  무피클  포...</td>\n",
              "      <td>978.0</td>\n",
              "      <td>525.0</td>\n",
              "    </tr>\n",
              "    <tr>\n",
              "      <th>4</th>\n",
              "      <td>2016-02-05</td>\n",
              "      <td>금</td>\n",
              "      <td>2601</td>\n",
              "      <td>278</td>\n",
              "      <td>181</td>\n",
              "      <td>34</td>\n",
              "      <td>0.0</td>\n",
              "      <td>모닝롤/와플  우유/두유/주스 계란후라이  쇠고기죽/쌀밥 (쌀:국내산) 재첩국  방...</td>\n",
              "      <td>쌀밥/잡곡밥 (쌀,현미흑미:국내산) 떡국  돈육씨앗강정 (돼지고기:국내산) 우엉잡채...</td>\n",
              "      <td>쌀밥/잡곡밥 (쌀,현미흑미:국내산) 차돌박이찌개 (쇠고기:호주산) 닭갈비 (닭고기:...</td>\n",
              "      <td>925.0</td>\n",
              "      <td>330.0</td>\n",
              "    </tr>\n",
              "  </tbody>\n",
              "</table>\n",
              "</div>\n",
              "    <div class=\"colab-df-buttons\">\n",
              "\n",
              "  <div class=\"colab-df-container\">\n",
              "    <button class=\"colab-df-convert\" onclick=\"convertToInteractive('df-ac7693c0-b30f-4cfd-ab28-7e32935151f3')\"\n",
              "            title=\"Convert this dataframe to an interactive table.\"\n",
              "            style=\"display:none;\">\n",
              "\n",
              "  <svg xmlns=\"http://www.w3.org/2000/svg\" height=\"24px\" viewBox=\"0 -960 960 960\">\n",
              "    <path d=\"M120-120v-720h720v720H120Zm60-500h600v-160H180v160Zm220 220h160v-160H400v160Zm0 220h160v-160H400v160ZM180-400h160v-160H180v160Zm440 0h160v-160H620v160ZM180-180h160v-160H180v160Zm440 0h160v-160H620v160Z\"/>\n",
              "  </svg>\n",
              "    </button>\n",
              "\n",
              "  <style>\n",
              "    .colab-df-container {\n",
              "      display:flex;\n",
              "      gap: 12px;\n",
              "    }\n",
              "\n",
              "    .colab-df-convert {\n",
              "      background-color: #E8F0FE;\n",
              "      border: none;\n",
              "      border-radius: 50%;\n",
              "      cursor: pointer;\n",
              "      display: none;\n",
              "      fill: #1967D2;\n",
              "      height: 32px;\n",
              "      padding: 0 0 0 0;\n",
              "      width: 32px;\n",
              "    }\n",
              "\n",
              "    .colab-df-convert:hover {\n",
              "      background-color: #E2EBFA;\n",
              "      box-shadow: 0px 1px 2px rgba(60, 64, 67, 0.3), 0px 1px 3px 1px rgba(60, 64, 67, 0.15);\n",
              "      fill: #174EA6;\n",
              "    }\n",
              "\n",
              "    .colab-df-buttons div {\n",
              "      margin-bottom: 4px;\n",
              "    }\n",
              "\n",
              "    [theme=dark] .colab-df-convert {\n",
              "      background-color: #3B4455;\n",
              "      fill: #D2E3FC;\n",
              "    }\n",
              "\n",
              "    [theme=dark] .colab-df-convert:hover {\n",
              "      background-color: #434B5C;\n",
              "      box-shadow: 0px 1px 3px 1px rgba(0, 0, 0, 0.15);\n",
              "      filter: drop-shadow(0px 1px 2px rgba(0, 0, 0, 0.3));\n",
              "      fill: #FFFFFF;\n",
              "    }\n",
              "  </style>\n",
              "\n",
              "    <script>\n",
              "      const buttonEl =\n",
              "        document.querySelector('#df-ac7693c0-b30f-4cfd-ab28-7e32935151f3 button.colab-df-convert');\n",
              "      buttonEl.style.display =\n",
              "        google.colab.kernel.accessAllowed ? 'block' : 'none';\n",
              "\n",
              "      async function convertToInteractive(key) {\n",
              "        const element = document.querySelector('#df-ac7693c0-b30f-4cfd-ab28-7e32935151f3');\n",
              "        const dataTable =\n",
              "          await google.colab.kernel.invokeFunction('convertToInteractive',\n",
              "                                                    [key], {});\n",
              "        if (!dataTable) return;\n",
              "\n",
              "        const docLinkHtml = 'Like what you see? Visit the ' +\n",
              "          '<a target=\"_blank\" href=https://colab.research.google.com/notebooks/data_table.ipynb>data table notebook</a>'\n",
              "          + ' to learn more about interactive tables.';\n",
              "        element.innerHTML = '';\n",
              "        dataTable['output_type'] = 'display_data';\n",
              "        await google.colab.output.renderOutput(dataTable, element);\n",
              "        const docLink = document.createElement('div');\n",
              "        docLink.innerHTML = docLinkHtml;\n",
              "        element.appendChild(docLink);\n",
              "      }\n",
              "    </script>\n",
              "  </div>\n",
              "\n",
              "\n",
              "<div id=\"df-96018689-3e36-4458-b65b-7c95fb208d77\">\n",
              "  <button class=\"colab-df-quickchart\" onclick=\"quickchart('df-96018689-3e36-4458-b65b-7c95fb208d77')\"\n",
              "            title=\"Suggest charts.\"\n",
              "            style=\"display:none;\">\n",
              "\n",
              "<svg xmlns=\"http://www.w3.org/2000/svg\" height=\"24px\"viewBox=\"0 0 24 24\"\n",
              "     width=\"24px\">\n",
              "    <g>\n",
              "        <path d=\"M19 3H5c-1.1 0-2 .9-2 2v14c0 1.1.9 2 2 2h14c1.1 0 2-.9 2-2V5c0-1.1-.9-2-2-2zM9 17H7v-7h2v7zm4 0h-2V7h2v10zm4 0h-2v-4h2v4z\"/>\n",
              "    </g>\n",
              "</svg>\n",
              "  </button>\n",
              "\n",
              "<style>\n",
              "  .colab-df-quickchart {\n",
              "      --bg-color: #E8F0FE;\n",
              "      --fill-color: #1967D2;\n",
              "      --hover-bg-color: #E2EBFA;\n",
              "      --hover-fill-color: #174EA6;\n",
              "      --disabled-fill-color: #AAA;\n",
              "      --disabled-bg-color: #DDD;\n",
              "  }\n",
              "\n",
              "  [theme=dark] .colab-df-quickchart {\n",
              "      --bg-color: #3B4455;\n",
              "      --fill-color: #D2E3FC;\n",
              "      --hover-bg-color: #434B5C;\n",
              "      --hover-fill-color: #FFFFFF;\n",
              "      --disabled-bg-color: #3B4455;\n",
              "      --disabled-fill-color: #666;\n",
              "  }\n",
              "\n",
              "  .colab-df-quickchart {\n",
              "    background-color: var(--bg-color);\n",
              "    border: none;\n",
              "    border-radius: 50%;\n",
              "    cursor: pointer;\n",
              "    display: none;\n",
              "    fill: var(--fill-color);\n",
              "    height: 32px;\n",
              "    padding: 0;\n",
              "    width: 32px;\n",
              "  }\n",
              "\n",
              "  .colab-df-quickchart:hover {\n",
              "    background-color: var(--hover-bg-color);\n",
              "    box-shadow: 0 1px 2px rgba(60, 64, 67, 0.3), 0 1px 3px 1px rgba(60, 64, 67, 0.15);\n",
              "    fill: var(--button-hover-fill-color);\n",
              "  }\n",
              "\n",
              "  .colab-df-quickchart-complete:disabled,\n",
              "  .colab-df-quickchart-complete:disabled:hover {\n",
              "    background-color: var(--disabled-bg-color);\n",
              "    fill: var(--disabled-fill-color);\n",
              "    box-shadow: none;\n",
              "  }\n",
              "\n",
              "  .colab-df-spinner {\n",
              "    border: 2px solid var(--fill-color);\n",
              "    border-color: transparent;\n",
              "    border-bottom-color: var(--fill-color);\n",
              "    animation:\n",
              "      spin 1s steps(1) infinite;\n",
              "  }\n",
              "\n",
              "  @keyframes spin {\n",
              "    0% {\n",
              "      border-color: transparent;\n",
              "      border-bottom-color: var(--fill-color);\n",
              "      border-left-color: var(--fill-color);\n",
              "    }\n",
              "    20% {\n",
              "      border-color: transparent;\n",
              "      border-left-color: var(--fill-color);\n",
              "      border-top-color: var(--fill-color);\n",
              "    }\n",
              "    30% {\n",
              "      border-color: transparent;\n",
              "      border-left-color: var(--fill-color);\n",
              "      border-top-color: var(--fill-color);\n",
              "      border-right-color: var(--fill-color);\n",
              "    }\n",
              "    40% {\n",
              "      border-color: transparent;\n",
              "      border-right-color: var(--fill-color);\n",
              "      border-top-color: var(--fill-color);\n",
              "    }\n",
              "    60% {\n",
              "      border-color: transparent;\n",
              "      border-right-color: var(--fill-color);\n",
              "    }\n",
              "    80% {\n",
              "      border-color: transparent;\n",
              "      border-right-color: var(--fill-color);\n",
              "      border-bottom-color: var(--fill-color);\n",
              "    }\n",
              "    90% {\n",
              "      border-color: transparent;\n",
              "      border-bottom-color: var(--fill-color);\n",
              "    }\n",
              "  }\n",
              "</style>\n",
              "\n",
              "  <script>\n",
              "    async function quickchart(key) {\n",
              "      const quickchartButtonEl =\n",
              "        document.querySelector('#' + key + ' button');\n",
              "      quickchartButtonEl.disabled = true;  // To prevent multiple clicks.\n",
              "      quickchartButtonEl.classList.add('colab-df-spinner');\n",
              "      try {\n",
              "        const charts = await google.colab.kernel.invokeFunction(\n",
              "            'suggestCharts', [key], {});\n",
              "      } catch (error) {\n",
              "        console.error('Error during call to suggestCharts:', error);\n",
              "      }\n",
              "      quickchartButtonEl.classList.remove('colab-df-spinner');\n",
              "      quickchartButtonEl.classList.add('colab-df-quickchart-complete');\n",
              "    }\n",
              "    (() => {\n",
              "      let quickchartButtonEl =\n",
              "        document.querySelector('#df-96018689-3e36-4458-b65b-7c95fb208d77 button');\n",
              "      quickchartButtonEl.style.display =\n",
              "        google.colab.kernel.accessAllowed ? 'block' : 'none';\n",
              "    })();\n",
              "  </script>\n",
              "</div>\n",
              "    </div>\n",
              "  </div>\n"
            ]
          },
          "metadata": {},
          "execution_count": 3
        }
      ]
    },
    {
      "cell_type": "markdown",
      "source": [
        "\n",
        "## **문제해결 프로세스 정의**\n",
        "---\n",
        "> **문제정의**\n",
        "\n",
        "```\n",
        "▶ 식수 예측 어려움으로 인한 재고관리 손실 비용\n",
        "```  \n",
        "\n",
        "> **기대효과**\n",
        "\n",
        "```\n",
        "▶ 식수 인원 예측을 통한 재고관리 효율화, 손실 비용 감소\n",
        "```\n",
        "\n",
        "> **해결방안**\n",
        "\n",
        "```\n",
        "▶ 식수 예측 모델 활용 식수 인원 예측 및 음식 준비\n",
        "▶ Session 1 🥉\n",
        " - Data 전처리 및 식수인원 Data 탐색\n",
        "▶ Session 2 🥈\n",
        " - Text(메뉴) Data 처리 방법 및 탐색\n",
        "▶ Session 3 🥇\n",
        " - ML 알고리즘을 활용하여 식수인원 예측\n",
        "```\n",
        "\n",
        "> **성과측정**  \n",
        "\n",
        "```\n",
        "▶ 전/후 손실 비용 비교\n",
        "```\n",
        "\n",
        "> **현업적용**  \n",
        "\n",
        "```\n",
        "▶ Model에 Input하기 위한 Data mart 준비 (※ 주단위 or 월단위 _ 데이터에 특성에 따라 결정)\n",
        "▶ Model을 활용하여 예상 식수 인원 예측\n",
        "▶ 식수 인원에 맞춰 재고 관리\n",
        "```\n",
        "\n",
        "> **주요 코드 미리 살펴보기**  \n",
        "\n",
        "```\n",
        "▶ session 1 → to_datetime, pd.DataFrame(df_dow, index=[])\n",
        "▶ session 2 → replace, split, lstrip(), sort_values\n",
        "                                lstrip()으로 공백제거\n",
        "▶ session 3 → LabelEncoder(), mean_absolute_error, r2_score\n",
        "```"
      ],
      "metadata": {
        "id": "76fHqK_XwvW3"
      }
    },
    {
      "cell_type": "markdown",
      "source": [
        "## **🥉Session 1**  \n",
        "**┗ 요일별 특성 파악**  \n",
        "---"
      ],
      "metadata": {
        "id": "TauvoYGcxFSL"
      }
    },
    {
      "cell_type": "markdown",
      "source": [
        "### · Data 전처리  \n",
        "---\n",
        "* 수집된 데이터의 기본 정보들을 확인  \n",
        "\n",
        "  (1) Data shape(형태) 확인\n",
        "\n",
        "  (2) Data type 확인\n",
        "\n",
        "  (3) Null값 확인 (※ 빈 값의 Data)\n",
        "\n",
        "  (4) Outlier 확인 (※ 정상적인 범주를 벗어난 Data)  \n"
      ],
      "metadata": {
        "id": "tiJnLbUFxY2V"
      }
    },
    {
      "cell_type": "code",
      "source": [
        "# ▶ Data 형태 확인\n",
        "# ▶ 1205 row, 12 col로 구성됨\n",
        "print('df', df.shape)"
      ],
      "metadata": {
        "colab": {
          "base_uri": "https://localhost:8080/"
        },
        "id": "6ij3yRmpPu-m",
        "outputId": "43a1e73b-1c0d-4fa3-8a94-ea6b98f262b3"
      },
      "execution_count": null,
      "outputs": [
        {
          "output_type": "stream",
          "name": "stdout",
          "text": [
            "df (1205, 12)\n"
          ]
        }
      ]
    },
    {
      "cell_type": "code",
      "source": [
        "# ▶ Data type 확인\n",
        "df.info()"
      ],
      "metadata": {
        "colab": {
          "base_uri": "https://localhost:8080/"
        },
        "id": "L7KZBaNeP0GG",
        "outputId": "e5bfa62f-f62d-49c8-f744-6d1338a82dac"
      },
      "execution_count": null,
      "outputs": [
        {
          "output_type": "stream",
          "name": "stdout",
          "text": [
            "<class 'pandas.core.frame.DataFrame'>\n",
            "RangeIndex: 1205 entries, 0 to 1204\n",
            "Data columns (total 12 columns):\n",
            " #   Column          Non-Null Count  Dtype  \n",
            "---  ------          --------------  -----  \n",
            " 0   일자              1205 non-null   object \n",
            " 1   요일              1205 non-null   object \n",
            " 2   본사정원수           1205 non-null   int64  \n",
            " 3   본사휴가자수          1205 non-null   int64  \n",
            " 4   본사출장자수          1205 non-null   int64  \n",
            " 5   본사시간외근무명령서승인건수  1205 non-null   int64  \n",
            " 6   현본사소속재택근무자수     1205 non-null   float64\n",
            " 7   조식메뉴            1205 non-null   object \n",
            " 8   중식메뉴            1205 non-null   object \n",
            " 9   석식메뉴            1205 non-null   object \n",
            " 10  중식계             1205 non-null   float64\n",
            " 11  석식계             1205 non-null   float64\n",
            "dtypes: float64(3), int64(4), object(5)\n",
            "memory usage: 113.1+ KB\n"
          ]
        }
      ]
    },
    {
      "cell_type": "code",
      "source": [
        "# ▶ Null 값 확인\n",
        "print(df.isnull().sum())"
      ],
      "metadata": {
        "colab": {
          "base_uri": "https://localhost:8080/"
        },
        "id": "873TZDQPx0Kx",
        "outputId": "4494ff61-00a9-4c87-a454-591ce7c8ce98"
      },
      "execution_count": null,
      "outputs": [
        {
          "output_type": "stream",
          "name": "stdout",
          "text": [
            "일자                0\n",
            "요일                0\n",
            "본사정원수             0\n",
            "본사휴가자수            0\n",
            "본사출장자수            0\n",
            "본사시간외근무명령서승인건수    0\n",
            "현본사소속재택근무자수       0\n",
            "조식메뉴              0\n",
            "중식메뉴              0\n",
            "석식메뉴              0\n",
            "중식계               0\n",
            "석식계               0\n",
            "dtype: int64\n"
          ]
        }
      ]
    },
    {
      "cell_type": "markdown",
      "source": [
        "### · Data 탐색\n",
        "---\n"
      ],
      "metadata": {
        "id": "ZbrQiy4EyaUl"
      }
    },
    {
      "cell_type": "code",
      "source": [
        "df.head(3)"
      ],
      "metadata": {
        "colab": {
          "base_uri": "https://localhost:8080/",
          "height": 309
        },
        "id": "7MsDzCL3ydsb",
        "outputId": "514fb296-ceb7-4c6f-83cf-a73618837b32"
      },
      "execution_count": null,
      "outputs": [
        {
          "output_type": "execute_result",
          "data": {
            "text/plain": [
              "           일자 요일  본사정원수  본사휴가자수  본사출장자수  본사시간외근무명령서승인건수  현본사소속재택근무자수  \\\n",
              "0  2016-02-01  월   2601      50     150             238          0.0   \n",
              "1  2016-02-02  화   2601      50     173             319          0.0   \n",
              "2  2016-02-03  수   2601      56     180             111          0.0   \n",
              "\n",
              "                                                조식메뉴  \\\n",
              "0  모닝롤/찐빵  우유/두유/주스 계란후라이  호두죽/쌀밥 (쌀:국내산) 된장찌개  쥐...   \n",
              "1  모닝롤/단호박샌드  우유/두유/주스 계란후라이  팥죽/쌀밥 (쌀:국내산) 호박젓국찌...   \n",
              "2  모닝롤/베이글  우유/두유/주스 계란후라이  표고버섯죽/쌀밥 (쌀:국내산) 콩나물국...   \n",
              "\n",
              "                                                중식메뉴  \\\n",
              "0  쌀밥/잡곡밥 (쌀,현미흑미:국내산) 오징어찌개  쇠불고기 (쇠고기:호주산) 계란찜 ...   \n",
              "1  쌀밥/잡곡밥 (쌀,현미흑미:국내산) 김치찌개  가자미튀김  모둠소세지구이  마늘쫑무...   \n",
              "2  카레덮밥 (쌀,현미흑미:국내산) 팽이장국  치킨핑거 (닭고기:국내산) 쫄면야채무침 ...   \n",
              "\n",
              "                                                석식메뉴     중식계    석식계  \n",
              "0  쌀밥/잡곡밥 (쌀,현미흑미:국내산) 육개장  자반고등어구이  두부조림  건파래무침 ...  1039.0  331.0  \n",
              "1  콩나물밥*양념장 (쌀,현미흑미:국내산) 어묵국  유산슬 (쇠고기:호주산) 아삭고추무...   867.0  560.0  \n",
              "2  쌀밥/잡곡밥 (쌀,현미흑미:국내산) 청국장찌개  황태양념구이 (황태:러시아산) 고기...  1017.0  573.0  "
            ],
            "text/html": [
              "\n",
              "  <div id=\"df-fb8c5d37-9c61-48e0-b1a1-8bf37407315f\">\n",
              "    <div class=\"colab-df-container\">\n",
              "      <div>\n",
              "<style scoped>\n",
              "    .dataframe tbody tr th:only-of-type {\n",
              "        vertical-align: middle;\n",
              "    }\n",
              "\n",
              "    .dataframe tbody tr th {\n",
              "        vertical-align: top;\n",
              "    }\n",
              "\n",
              "    .dataframe thead th {\n",
              "        text-align: right;\n",
              "    }\n",
              "</style>\n",
              "<table border=\"1\" class=\"dataframe\">\n",
              "  <thead>\n",
              "    <tr style=\"text-align: right;\">\n",
              "      <th></th>\n",
              "      <th>일자</th>\n",
              "      <th>요일</th>\n",
              "      <th>본사정원수</th>\n",
              "      <th>본사휴가자수</th>\n",
              "      <th>본사출장자수</th>\n",
              "      <th>본사시간외근무명령서승인건수</th>\n",
              "      <th>현본사소속재택근무자수</th>\n",
              "      <th>조식메뉴</th>\n",
              "      <th>중식메뉴</th>\n",
              "      <th>석식메뉴</th>\n",
              "      <th>중식계</th>\n",
              "      <th>석식계</th>\n",
              "    </tr>\n",
              "  </thead>\n",
              "  <tbody>\n",
              "    <tr>\n",
              "      <th>0</th>\n",
              "      <td>2016-02-01</td>\n",
              "      <td>월</td>\n",
              "      <td>2601</td>\n",
              "      <td>50</td>\n",
              "      <td>150</td>\n",
              "      <td>238</td>\n",
              "      <td>0.0</td>\n",
              "      <td>모닝롤/찐빵  우유/두유/주스 계란후라이  호두죽/쌀밥 (쌀:국내산) 된장찌개  쥐...</td>\n",
              "      <td>쌀밥/잡곡밥 (쌀,현미흑미:국내산) 오징어찌개  쇠불고기 (쇠고기:호주산) 계란찜 ...</td>\n",
              "      <td>쌀밥/잡곡밥 (쌀,현미흑미:국내산) 육개장  자반고등어구이  두부조림  건파래무침 ...</td>\n",
              "      <td>1039.0</td>\n",
              "      <td>331.0</td>\n",
              "    </tr>\n",
              "    <tr>\n",
              "      <th>1</th>\n",
              "      <td>2016-02-02</td>\n",
              "      <td>화</td>\n",
              "      <td>2601</td>\n",
              "      <td>50</td>\n",
              "      <td>173</td>\n",
              "      <td>319</td>\n",
              "      <td>0.0</td>\n",
              "      <td>모닝롤/단호박샌드  우유/두유/주스 계란후라이  팥죽/쌀밥 (쌀:국내산) 호박젓국찌...</td>\n",
              "      <td>쌀밥/잡곡밥 (쌀,현미흑미:국내산) 김치찌개  가자미튀김  모둠소세지구이  마늘쫑무...</td>\n",
              "      <td>콩나물밥*양념장 (쌀,현미흑미:국내산) 어묵국  유산슬 (쇠고기:호주산) 아삭고추무...</td>\n",
              "      <td>867.0</td>\n",
              "      <td>560.0</td>\n",
              "    </tr>\n",
              "    <tr>\n",
              "      <th>2</th>\n",
              "      <td>2016-02-03</td>\n",
              "      <td>수</td>\n",
              "      <td>2601</td>\n",
              "      <td>56</td>\n",
              "      <td>180</td>\n",
              "      <td>111</td>\n",
              "      <td>0.0</td>\n",
              "      <td>모닝롤/베이글  우유/두유/주스 계란후라이  표고버섯죽/쌀밥 (쌀:국내산) 콩나물국...</td>\n",
              "      <td>카레덮밥 (쌀,현미흑미:국내산) 팽이장국  치킨핑거 (닭고기:국내산) 쫄면야채무침 ...</td>\n",
              "      <td>쌀밥/잡곡밥 (쌀,현미흑미:국내산) 청국장찌개  황태양념구이 (황태:러시아산) 고기...</td>\n",
              "      <td>1017.0</td>\n",
              "      <td>573.0</td>\n",
              "    </tr>\n",
              "  </tbody>\n",
              "</table>\n",
              "</div>\n",
              "      <button class=\"colab-df-convert\" onclick=\"convertToInteractive('df-fb8c5d37-9c61-48e0-b1a1-8bf37407315f')\"\n",
              "              title=\"Convert this dataframe to an interactive table.\"\n",
              "              style=\"display:none;\">\n",
              "        \n",
              "  <svg xmlns=\"http://www.w3.org/2000/svg\" height=\"24px\"viewBox=\"0 0 24 24\"\n",
              "       width=\"24px\">\n",
              "    <path d=\"M0 0h24v24H0V0z\" fill=\"none\"/>\n",
              "    <path d=\"M18.56 5.44l.94 2.06.94-2.06 2.06-.94-2.06-.94-.94-2.06-.94 2.06-2.06.94zm-11 1L8.5 8.5l.94-2.06 2.06-.94-2.06-.94L8.5 2.5l-.94 2.06-2.06.94zm10 10l.94 2.06.94-2.06 2.06-.94-2.06-.94-.94-2.06-.94 2.06-2.06.94z\"/><path d=\"M17.41 7.96l-1.37-1.37c-.4-.4-.92-.59-1.43-.59-.52 0-1.04.2-1.43.59L10.3 9.45l-7.72 7.72c-.78.78-.78 2.05 0 2.83L4 21.41c.39.39.9.59 1.41.59.51 0 1.02-.2 1.41-.59l7.78-7.78 2.81-2.81c.8-.78.8-2.07 0-2.86zM5.41 20L4 18.59l7.72-7.72 1.47 1.35L5.41 20z\"/>\n",
              "  </svg>\n",
              "      </button>\n",
              "      \n",
              "  <style>\n",
              "    .colab-df-container {\n",
              "      display:flex;\n",
              "      flex-wrap:wrap;\n",
              "      gap: 12px;\n",
              "    }\n",
              "\n",
              "    .colab-df-convert {\n",
              "      background-color: #E8F0FE;\n",
              "      border: none;\n",
              "      border-radius: 50%;\n",
              "      cursor: pointer;\n",
              "      display: none;\n",
              "      fill: #1967D2;\n",
              "      height: 32px;\n",
              "      padding: 0 0 0 0;\n",
              "      width: 32px;\n",
              "    }\n",
              "\n",
              "    .colab-df-convert:hover {\n",
              "      background-color: #E2EBFA;\n",
              "      box-shadow: 0px 1px 2px rgba(60, 64, 67, 0.3), 0px 1px 3px 1px rgba(60, 64, 67, 0.15);\n",
              "      fill: #174EA6;\n",
              "    }\n",
              "\n",
              "    [theme=dark] .colab-df-convert {\n",
              "      background-color: #3B4455;\n",
              "      fill: #D2E3FC;\n",
              "    }\n",
              "\n",
              "    [theme=dark] .colab-df-convert:hover {\n",
              "      background-color: #434B5C;\n",
              "      box-shadow: 0px 1px 3px 1px rgba(0, 0, 0, 0.15);\n",
              "      filter: drop-shadow(0px 1px 2px rgba(0, 0, 0, 0.3));\n",
              "      fill: #FFFFFF;\n",
              "    }\n",
              "  </style>\n",
              "\n",
              "      <script>\n",
              "        const buttonEl =\n",
              "          document.querySelector('#df-fb8c5d37-9c61-48e0-b1a1-8bf37407315f button.colab-df-convert');\n",
              "        buttonEl.style.display =\n",
              "          google.colab.kernel.accessAllowed ? 'block' : 'none';\n",
              "\n",
              "        async function convertToInteractive(key) {\n",
              "          const element = document.querySelector('#df-fb8c5d37-9c61-48e0-b1a1-8bf37407315f');\n",
              "          const dataTable =\n",
              "            await google.colab.kernel.invokeFunction('convertToInteractive',\n",
              "                                                     [key], {});\n",
              "          if (!dataTable) return;\n",
              "\n",
              "          const docLinkHtml = 'Like what you see? Visit the ' +\n",
              "            '<a target=\"_blank\" href=https://colab.research.google.com/notebooks/data_table.ipynb>data table notebook</a>'\n",
              "            + ' to learn more about interactive tables.';\n",
              "          element.innerHTML = '';\n",
              "          dataTable['output_type'] = 'display_data';\n",
              "          await google.colab.output.renderOutput(dataTable, element);\n",
              "          const docLink = document.createElement('div');\n",
              "          docLink.innerHTML = docLinkHtml;\n",
              "          element.appendChild(docLink);\n",
              "        }\n",
              "      </script>\n",
              "    </div>\n",
              "  </div>\n",
              "  "
            ]
          },
          "metadata": {},
          "execution_count": 9
        }
      ]
    },
    {
      "cell_type": "code",
      "source": [
        "import datetime\n",
        "df['일자'] = pd.to_datetime(df['일자'])"
      ],
      "metadata": {
        "id": "qufBZsP1ydyk"
      },
      "execution_count": null,
      "outputs": []
    },
    {
      "cell_type": "code",
      "source": [
        "# ▶ 2016년 2월 1일 ~ 2021년 1월 26일까지의 데이터\n",
        "df['일자'].min(), df['일자'].max()"
      ],
      "metadata": {
        "colab": {
          "base_uri": "https://localhost:8080/"
        },
        "id": "xAaZ5RCOyd3c",
        "outputId": "3826d464-7b13-4f89-fd15-e2c2c30f3117"
      },
      "execution_count": null,
      "outputs": [
        {
          "output_type": "execute_result",
          "data": {
            "text/plain": [
              "(Timestamp('2016-02-01 00:00:00'), Timestamp('2021-01-26 00:00:00'))"
            ]
          },
          "metadata": {},
          "execution_count": 5
        }
      ]
    },
    {
      "cell_type": "code",
      "source": [
        "# ▶ 일자별 식수\n",
        "import seaborn as sns\n",
        "import matplotlib.pyplot as plt\n",
        "%matplotlib inline\n",
        "plt.style.use(['dark_background'])\n",
        "\n",
        "plt.plot(df['일자'], df['중식계'], label='lunch');\n",
        "plt.plot(df['일자'], df['석식계'], label='dinner');\n",
        "plt.gcf().set_size_inches(25, 5);\n",
        "plt.legend();"
      ],
      "metadata": {
        "colab": {
          "base_uri": "https://localhost:8080/",
          "height": 195
        },
        "id": "4l4HBjXLyd8C",
        "outputId": "3b322690-0ebd-4b62-ed22-5ddca90aded6"
      },
      "execution_count": null,
      "outputs": [
        {
          "output_type": "display_data",
          "data": {
            "text/plain": [
              "<Figure size 1800x360 with 1 Axes>"
            ],
            "image/png": "[encoded data removed]"
          },
          "metadata": {}
        }
      ]
    },
    {
      "cell_type": "code",
      "source": [
        "#days of week\n",
        " #요일별 특성 파악\n",
        "df_dow = pd.DataFrame(df.groupby('요일')[['중식계','석식계']].mean())\n",
        "df_dow"
      ],
      "metadata": {
        "colab": {
          "base_uri": "https://localhost:8080/",
          "height": 237
        },
        "id": "iPw0EGwz0rBd",
        "outputId": "76835a00-086f-4261-fc8a-be9ece114e2b"
      },
      "execution_count": null,
      "outputs": [
        {
          "output_type": "execute_result",
          "data": {
            "text/plain": [
              "            중식계         석식계\n",
              "요일                         \n",
              "금    653.609959  404.979253\n",
              "목    823.991803  480.401639\n",
              "수    905.213389  363.615063\n",
              "월   1144.331950  538.933610\n",
              "화    925.620833  520.129167"
            ],
            "text/html": [
              "\n",
              "  <div id=\"df-444349bd-53e5-47b0-8817-1593e6526998\">\n",
              "    <div class=\"colab-df-container\">\n",
              "      <div>\n",
              "<style scoped>\n",
              "    .dataframe tbody tr th:only-of-type {\n",
              "        vertical-align: middle;\n",
              "    }\n",
              "\n",
              "    .dataframe tbody tr th {\n",
              "        vertical-align: top;\n",
              "    }\n",
              "\n",
              "    .dataframe thead th {\n",
              "        text-align: right;\n",
              "    }\n",
              "</style>\n",
              "<table border=\"1\" class=\"dataframe\">\n",
              "  <thead>\n",
              "    <tr style=\"text-align: right;\">\n",
              "      <th></th>\n",
              "      <th>중식계</th>\n",
              "      <th>석식계</th>\n",
              "    </tr>\n",
              "    <tr>\n",
              "      <th>요일</th>\n",
              "      <th></th>\n",
              "      <th></th>\n",
              "    </tr>\n",
              "  </thead>\n",
              "  <tbody>\n",
              "    <tr>\n",
              "      <th>금</th>\n",
              "      <td>653.609959</td>\n",
              "      <td>404.979253</td>\n",
              "    </tr>\n",
              "    <tr>\n",
              "      <th>목</th>\n",
              "      <td>823.991803</td>\n",
              "      <td>480.401639</td>\n",
              "    </tr>\n",
              "    <tr>\n",
              "      <th>수</th>\n",
              "      <td>905.213389</td>\n",
              "      <td>363.615063</td>\n",
              "    </tr>\n",
              "    <tr>\n",
              "      <th>월</th>\n",
              "      <td>1144.331950</td>\n",
              "      <td>538.933610</td>\n",
              "    </tr>\n",
              "    <tr>\n",
              "      <th>화</th>\n",
              "      <td>925.620833</td>\n",
              "      <td>520.129167</td>\n",
              "    </tr>\n",
              "  </tbody>\n",
              "</table>\n",
              "</div>\n",
              "      <button class=\"colab-df-convert\" onclick=\"convertToInteractive('df-444349bd-53e5-47b0-8817-1593e6526998')\"\n",
              "              title=\"Convert this dataframe to an interactive table.\"\n",
              "              style=\"display:none;\">\n",
              "        \n",
              "  <svg xmlns=\"http://www.w3.org/2000/svg\" height=\"24px\"viewBox=\"0 0 24 24\"\n",
              "       width=\"24px\">\n",
              "    <path d=\"M0 0h24v24H0V0z\" fill=\"none\"/>\n",
              "    <path d=\"M18.56 5.44l.94 2.06.94-2.06 2.06-.94-2.06-.94-.94-2.06-.94 2.06-2.06.94zm-11 1L8.5 8.5l.94-2.06 2.06-.94-2.06-.94L8.5 2.5l-.94 2.06-2.06.94zm10 10l.94 2.06.94-2.06 2.06-.94-2.06-.94-.94-2.06-.94 2.06-2.06.94z\"/><path d=\"M17.41 7.96l-1.37-1.37c-.4-.4-.92-.59-1.43-.59-.52 0-1.04.2-1.43.59L10.3 9.45l-7.72 7.72c-.78.78-.78 2.05 0 2.83L4 21.41c.39.39.9.59 1.41.59.51 0 1.02-.2 1.41-.59l7.78-7.78 2.81-2.81c.8-.78.8-2.07 0-2.86zM5.41 20L4 18.59l7.72-7.72 1.47 1.35L5.41 20z\"/>\n",
              "  </svg>\n",
              "      </button>\n",
              "      \n",
              "  <style>\n",
              "    .colab-df-container {\n",
              "      display:flex;\n",
              "      flex-wrap:wrap;\n",
              "      gap: 12px;\n",
              "    }\n",
              "\n",
              "    .colab-df-convert {\n",
              "      background-color: #E8F0FE;\n",
              "      border: none;\n",
              "      border-radius: 50%;\n",
              "      cursor: pointer;\n",
              "      display: none;\n",
              "      fill: #1967D2;\n",
              "      height: 32px;\n",
              "      padding: 0 0 0 0;\n",
              "      width: 32px;\n",
              "    }\n",
              "\n",
              "    .colab-df-convert:hover {\n",
              "      background-color: #E2EBFA;\n",
              "      box-shadow: 0px 1px 2px rgba(60, 64, 67, 0.3), 0px 1px 3px 1px rgba(60, 64, 67, 0.15);\n",
              "      fill: #174EA6;\n",
              "    }\n",
              "\n",
              "    [theme=dark] .colab-df-convert {\n",
              "      background-color: #3B4455;\n",
              "      fill: #D2E3FC;\n",
              "    }\n",
              "\n",
              "    [theme=dark] .colab-df-convert:hover {\n",
              "      background-color: #434B5C;\n",
              "      box-shadow: 0px 1px 3px 1px rgba(0, 0, 0, 0.15);\n",
              "      filter: drop-shadow(0px 1px 2px rgba(0, 0, 0, 0.3));\n",
              "      fill: #FFFFFF;\n",
              "    }\n",
              "  </style>\n",
              "\n",
              "      <script>\n",
              "        const buttonEl =\n",
              "          document.querySelector('#df-444349bd-53e5-47b0-8817-1593e6526998 button.colab-df-convert');\n",
              "        buttonEl.style.display =\n",
              "          google.colab.kernel.accessAllowed ? 'block' : 'none';\n",
              "\n",
              "        async function convertToInteractive(key) {\n",
              "          const element = document.querySelector('#df-444349bd-53e5-47b0-8817-1593e6526998');\n",
              "          const dataTable =\n",
              "            await google.colab.kernel.invokeFunction('convertToInteractive',\n",
              "                                                     [key], {});\n",
              "          if (!dataTable) return;\n",
              "\n",
              "          const docLinkHtml = 'Like what you see? Visit the ' +\n",
              "            '<a target=\"_blank\" href=https://colab.research.google.com/notebooks/data_table.ipynb>data table notebook</a>'\n",
              "            + ' to learn more about interactive tables.';\n",
              "          element.innerHTML = '';\n",
              "          dataTable['output_type'] = 'display_data';\n",
              "          await google.colab.output.renderOutput(dataTable, element);\n",
              "          const docLink = document.createElement('div');\n",
              "          docLink.innerHTML = docLinkHtml;\n",
              "          element.appendChild(docLink);\n",
              "        }\n",
              "      </script>\n",
              "    </div>\n",
              "  </div>\n",
              "  "
            ]
          },
          "metadata": {},
          "execution_count": 7
        }
      ]
    },
    {
      "cell_type": "code",
      "source": [
        "#index를 통해 순서 지정\n",
        "df_dow = pd.DataFrame(df.groupby('요일')[['중식계','석식계']].mean(), index = ['월', '화', '수', '목', '금'])\n",
        "df_dow"
      ],
      "metadata": {
        "colab": {
          "base_uri": "https://localhost:8080/",
          "height": 206
        },
        "id": "1f62rDMkrDJ4",
        "outputId": "c2208d0e-9961-468c-8277-5b42e927ff5b"
      },
      "execution_count": null,
      "outputs": [
        {
          "output_type": "execute_result",
          "data": {
            "text/plain": [
              "           중식계         석식계\n",
              "월  1144.331950  538.933610\n",
              "화   925.620833  520.129167\n",
              "수   905.213389  363.615063\n",
              "목   823.991803  480.401639\n",
              "금   653.609959  404.979253"
            ],
            "text/html": [
              "\n",
              "  <div id=\"df-d3fc0ec1-9993-4ec5-988c-2e91a7805c3e\">\n",
              "    <div class=\"colab-df-container\">\n",
              "      <div>\n",
              "<style scoped>\n",
              "    .dataframe tbody tr th:only-of-type {\n",
              "        vertical-align: middle;\n",
              "    }\n",
              "\n",
              "    .dataframe tbody tr th {\n",
              "        vertical-align: top;\n",
              "    }\n",
              "\n",
              "    .dataframe thead th {\n",
              "        text-align: right;\n",
              "    }\n",
              "</style>\n",
              "<table border=\"1\" class=\"dataframe\">\n",
              "  <thead>\n",
              "    <tr style=\"text-align: right;\">\n",
              "      <th></th>\n",
              "      <th>중식계</th>\n",
              "      <th>석식계</th>\n",
              "    </tr>\n",
              "  </thead>\n",
              "  <tbody>\n",
              "    <tr>\n",
              "      <th>월</th>\n",
              "      <td>1144.331950</td>\n",
              "      <td>538.933610</td>\n",
              "    </tr>\n",
              "    <tr>\n",
              "      <th>화</th>\n",
              "      <td>925.620833</td>\n",
              "      <td>520.129167</td>\n",
              "    </tr>\n",
              "    <tr>\n",
              "      <th>수</th>\n",
              "      <td>905.213389</td>\n",
              "      <td>363.615063</td>\n",
              "    </tr>\n",
              "    <tr>\n",
              "      <th>목</th>\n",
              "      <td>823.991803</td>\n",
              "      <td>480.401639</td>\n",
              "    </tr>\n",
              "    <tr>\n",
              "      <th>금</th>\n",
              "      <td>653.609959</td>\n",
              "      <td>404.979253</td>\n",
              "    </tr>\n",
              "  </tbody>\n",
              "</table>\n",
              "</div>\n",
              "      <button class=\"colab-df-convert\" onclick=\"convertToInteractive('df-d3fc0ec1-9993-4ec5-988c-2e91a7805c3e')\"\n",
              "              title=\"Convert this dataframe to an interactive table.\"\n",
              "              style=\"display:none;\">\n",
              "        \n",
              "  <svg xmlns=\"http://www.w3.org/2000/svg\" height=\"24px\"viewBox=\"0 0 24 24\"\n",
              "       width=\"24px\">\n",
              "    <path d=\"M0 0h24v24H0V0z\" fill=\"none\"/>\n",
              "    <path d=\"M18.56 5.44l.94 2.06.94-2.06 2.06-.94-2.06-.94-.94-2.06-.94 2.06-2.06.94zm-11 1L8.5 8.5l.94-2.06 2.06-.94-2.06-.94L8.5 2.5l-.94 2.06-2.06.94zm10 10l.94 2.06.94-2.06 2.06-.94-2.06-.94-.94-2.06-.94 2.06-2.06.94z\"/><path d=\"M17.41 7.96l-1.37-1.37c-.4-.4-.92-.59-1.43-.59-.52 0-1.04.2-1.43.59L10.3 9.45l-7.72 7.72c-.78.78-.78 2.05 0 2.83L4 21.41c.39.39.9.59 1.41.59.51 0 1.02-.2 1.41-.59l7.78-7.78 2.81-2.81c.8-.78.8-2.07 0-2.86zM5.41 20L4 18.59l7.72-7.72 1.47 1.35L5.41 20z\"/>\n",
              "  </svg>\n",
              "      </button>\n",
              "      \n",
              "  <style>\n",
              "    .colab-df-container {\n",
              "      display:flex;\n",
              "      flex-wrap:wrap;\n",
              "      gap: 12px;\n",
              "    }\n",
              "\n",
              "    .colab-df-convert {\n",
              "      background-color: #E8F0FE;\n",
              "      border: none;\n",
              "      border-radius: 50%;\n",
              "      cursor: pointer;\n",
              "      display: none;\n",
              "      fill: #1967D2;\n",
              "      height: 32px;\n",
              "      padding: 0 0 0 0;\n",
              "      width: 32px;\n",
              "    }\n",
              "\n",
              "    .colab-df-convert:hover {\n",
              "      background-color: #E2EBFA;\n",
              "      box-shadow: 0px 1px 2px rgba(60, 64, 67, 0.3), 0px 1px 3px 1px rgba(60, 64, 67, 0.15);\n",
              "      fill: #174EA6;\n",
              "    }\n",
              "\n",
              "    [theme=dark] .colab-df-convert {\n",
              "      background-color: #3B4455;\n",
              "      fill: #D2E3FC;\n",
              "    }\n",
              "\n",
              "    [theme=dark] .colab-df-convert:hover {\n",
              "      background-color: #434B5C;\n",
              "      box-shadow: 0px 1px 3px 1px rgba(0, 0, 0, 0.15);\n",
              "      filter: drop-shadow(0px 1px 2px rgba(0, 0, 0, 0.3));\n",
              "      fill: #FFFFFF;\n",
              "    }\n",
              "  </style>\n",
              "\n",
              "      <script>\n",
              "        const buttonEl =\n",
              "          document.querySelector('#df-d3fc0ec1-9993-4ec5-988c-2e91a7805c3e button.colab-df-convert');\n",
              "        buttonEl.style.display =\n",
              "          google.colab.kernel.accessAllowed ? 'block' : 'none';\n",
              "\n",
              "        async function convertToInteractive(key) {\n",
              "          const element = document.querySelector('#df-d3fc0ec1-9993-4ec5-988c-2e91a7805c3e');\n",
              "          const dataTable =\n",
              "            await google.colab.kernel.invokeFunction('convertToInteractive',\n",
              "                                                     [key], {});\n",
              "          if (!dataTable) return;\n",
              "\n",
              "          const docLinkHtml = 'Like what you see? Visit the ' +\n",
              "            '<a target=\"_blank\" href=https://colab.research.google.com/notebooks/data_table.ipynb>data table notebook</a>'\n",
              "            + ' to learn more about interactive tables.';\n",
              "          element.innerHTML = '';\n",
              "          dataTable['output_type'] = 'display_data';\n",
              "          await google.colab.output.renderOutput(dataTable, element);\n",
              "          const docLink = document.createElement('div');\n",
              "          docLink.innerHTML = docLinkHtml;\n",
              "          element.appendChild(docLink);\n",
              "        }\n",
              "      </script>\n",
              "    </div>\n",
              "  </div>\n",
              "  "
            ]
          },
          "metadata": {},
          "execution_count": 8
        }
      ]
    },
    {
      "cell_type": "code",
      "source": [
        "# ▶ 요일별 평균 식수(중식계)\n",
        "\n",
        "#fig,ax = plt.subplots()         #사실 subplots에 아무 인자도 넣지 않으면 안 쓸 때랑 차이 없음\n",
        "\n",
        "fig, ax = plt.subplots()\n",
        "plt.bar(df_dow.index, df_dow['중식계']);\n",
        "plt.rc('font', family='NanumBarunGothic')\n",
        "\n",
        "#xlabels = [\"Mon\", \"Tue\", \"Wed\", \"Thr\", \"Fri\"]\n",
        "#ax.set_xticklabels(xlabels);               이렇게 영어 등 원하는 형태로 표시할 수도 있음"
      ],
      "metadata": {
        "colab": {
          "base_uri": "https://localhost:8080/",
          "height": 269
        },
        "id": "9XT6CtjCxF_Z",
        "outputId": "2939bdd3-1b63-42f0-a933-1d4b39d6d936"
      },
      "execution_count": null,
      "outputs": [
        {
          "output_type": "display_data",
          "data": {
            "text/plain": [
              "<Figure size 432x288 with 1 Axes>"
            ],
            "image/png": "[encoded data removed]"
          },
          "metadata": {}
        }
      ]
    },
    {
      "cell_type": "code",
      "source": [
        "plt.bar(df_dow.index, df_dow['석식계'], color = 'darkgreen')\n",
        "\n",
        "# xlabels = ['Mon', 'Tue', 'Wed', 'Thr', 'Fri'];\n",
        "# ax.set_xticklabels(xlabels);\n",
        "\n",
        "plt.ylim(0,1000);"
      ],
      "metadata": {
        "colab": {
          "base_uri": "https://localhost:8080/",
          "height": 269
        },
        "id": "xxdD1FkPw_1J",
        "outputId": "dec1cb5b-d0b3-49d0-a8a4-4af10555120c"
      },
      "execution_count": null,
      "outputs": [
        {
          "output_type": "display_data",
          "data": {
            "text/plain": [
              "<Figure size 432x288 with 1 Axes>"
            ],
            "image/png": "[encoded data removed]"
          },
          "metadata": {}
        }
      ]
    },
    {
      "cell_type": "code",
      "source": [
        "#한 번에 그려보기기\n",
        "fig, ax = plt.subplots(1,2, figsize = (12,5))\n",
        "ax[0].bar(df_dow.index, df_dow['중식계']);\n",
        "plt.rc('font', family='NanumBarunGothic')\n",
        "\n",
        "#xlabels = [\"Mon\", \"Tue\", \"Wed\", \"Thr\", \"Fri\"]\n",
        "#ax.set_xticklabels(xlabels);               이렇게 영어 등 원하는 형태로 표시할 수도 있음\n",
        "\n",
        "ax[1].bar(df_dow.index, df_dow['석식계'], color = 'darkgreen')\n",
        "\n",
        "# xlabels = ['Mon', 'Tue', 'Wed', 'Thr', 'Fri'];\n",
        "# ax.set_xticklabels(xlabels);\n",
        "\n",
        "plt.ylim(0,1000);"
      ],
      "metadata": {
        "colab": {
          "base_uri": "https://localhost:8080/",
          "height": 323
        },
        "id": "I2eTDZ0U0H5O",
        "outputId": "1e4c374a-509f-4385-adb0-28cb83cce540"
      },
      "execution_count": null,
      "outputs": [
        {
          "output_type": "display_data",
          "data": {
            "text/plain": [
              "<Figure size 864x360 with 2 Axes>"
            ],
            "image/png": "[encoded data removed]"
          },
          "metadata": {}
        }
      ]
    },
    {
      "cell_type": "code",
      "source": [
        "df['month'] = df['일자'].dt.month\n",
        "df.head(3)"
      ],
      "metadata": {
        "colab": {
          "base_uri": "https://localhost:8080/",
          "height": 552
        },
        "id": "pRnDxMwPYOnI",
        "outputId": "615cb87e-d76d-4312-d4ce-f1a39f1f3c0d"
      },
      "execution_count": null,
      "outputs": [
        {
          "output_type": "execute_result",
          "data": {
            "text/plain": [
              "          일자 요일  본사정원수  본사휴가자수  본사출장자수  본사시간외근무명령서승인건수  현본사소속재택근무자수  \\\n",
              "0 2016-02-01  월   2601      50     150             238          0.0   \n",
              "1 2016-02-02  화   2601      50     173             319          0.0   \n",
              "2 2016-02-03  수   2601      56     180             111          0.0   \n",
              "\n",
              "                                                조식메뉴  \\\n",
              "0  모닝롤/찐빵  우유/두유/주스 계란후라이  호두죽/쌀밥 (쌀:국내산) 된장찌개  쥐...   \n",
              "1  모닝롤/단호박샌드  우유/두유/주스 계란후라이  팥죽/쌀밥 (쌀:국내산) 호박젓국찌...   \n",
              "2  모닝롤/베이글  우유/두유/주스 계란후라이  표고버섯죽/쌀밥 (쌀:국내산) 콩나물국...   \n",
              "\n",
              "                                                중식메뉴  \\\n",
              "0  쌀밥/잡곡밥 (쌀,현미흑미:국내산) 오징어찌개  쇠불고기 (쇠고기:호주산) 계란찜 ...   \n",
              "1  쌀밥/잡곡밥 (쌀,현미흑미:국내산) 김치찌개  가자미튀김  모둠소세지구이  마늘쫑무...   \n",
              "2  카레덮밥 (쌀,현미흑미:국내산) 팽이장국  치킨핑거 (닭고기:국내산) 쫄면야채무침 ...   \n",
              "\n",
              "                                                석식메뉴     중식계    석식계  month  \n",
              "0  쌀밥/잡곡밥 (쌀,현미흑미:국내산) 육개장  자반고등어구이  두부조림  건파래무침 ...  1039.0  331.0      2  \n",
              "1  콩나물밥*양념장 (쌀,현미흑미:국내산) 어묵국  유산슬 (쇠고기:호주산) 아삭고추무...   867.0  560.0      2  \n",
              "2  쌀밥/잡곡밥 (쌀,현미흑미:국내산) 청국장찌개  황태양념구이 (황태:러시아산) 고기...  1017.0  573.0      2  "
            ],
            "text/html": [
              "\n",
              "  <div id=\"df-7f4424b8-689d-4153-8863-145eb7dee038\">\n",
              "    <div class=\"colab-df-container\">\n",
              "      <div>\n",
              "<style scoped>\n",
              "    .dataframe tbody tr th:only-of-type {\n",
              "        vertical-align: middle;\n",
              "    }\n",
              "\n",
              "    .dataframe tbody tr th {\n",
              "        vertical-align: top;\n",
              "    }\n",
              "\n",
              "    .dataframe thead th {\n",
              "        text-align: right;\n",
              "    }\n",
              "</style>\n",
              "<table border=\"1\" class=\"dataframe\">\n",
              "  <thead>\n",
              "    <tr style=\"text-align: right;\">\n",
              "      <th></th>\n",
              "      <th>일자</th>\n",
              "      <th>요일</th>\n",
              "      <th>본사정원수</th>\n",
              "      <th>본사휴가자수</th>\n",
              "      <th>본사출장자수</th>\n",
              "      <th>본사시간외근무명령서승인건수</th>\n",
              "      <th>현본사소속재택근무자수</th>\n",
              "      <th>조식메뉴</th>\n",
              "      <th>중식메뉴</th>\n",
              "      <th>석식메뉴</th>\n",
              "      <th>중식계</th>\n",
              "      <th>석식계</th>\n",
              "      <th>month</th>\n",
              "    </tr>\n",
              "  </thead>\n",
              "  <tbody>\n",
              "    <tr>\n",
              "      <th>0</th>\n",
              "      <td>2016-02-01</td>\n",
              "      <td>월</td>\n",
              "      <td>2601</td>\n",
              "      <td>50</td>\n",
              "      <td>150</td>\n",
              "      <td>238</td>\n",
              "      <td>0.0</td>\n",
              "      <td>모닝롤/찐빵  우유/두유/주스 계란후라이  호두죽/쌀밥 (쌀:국내산) 된장찌개  쥐...</td>\n",
              "      <td>쌀밥/잡곡밥 (쌀,현미흑미:국내산) 오징어찌개  쇠불고기 (쇠고기:호주산) 계란찜 ...</td>\n",
              "      <td>쌀밥/잡곡밥 (쌀,현미흑미:국내산) 육개장  자반고등어구이  두부조림  건파래무침 ...</td>\n",
              "      <td>1039.0</td>\n",
              "      <td>331.0</td>\n",
              "      <td>2</td>\n",
              "    </tr>\n",
              "    <tr>\n",
              "      <th>1</th>\n",
              "      <td>2016-02-02</td>\n",
              "      <td>화</td>\n",
              "      <td>2601</td>\n",
              "      <td>50</td>\n",
              "      <td>173</td>\n",
              "      <td>319</td>\n",
              "      <td>0.0</td>\n",
              "      <td>모닝롤/단호박샌드  우유/두유/주스 계란후라이  팥죽/쌀밥 (쌀:국내산) 호박젓국찌...</td>\n",
              "      <td>쌀밥/잡곡밥 (쌀,현미흑미:국내산) 김치찌개  가자미튀김  모둠소세지구이  마늘쫑무...</td>\n",
              "      <td>콩나물밥*양념장 (쌀,현미흑미:국내산) 어묵국  유산슬 (쇠고기:호주산) 아삭고추무...</td>\n",
              "      <td>867.0</td>\n",
              "      <td>560.0</td>\n",
              "      <td>2</td>\n",
              "    </tr>\n",
              "    <tr>\n",
              "      <th>2</th>\n",
              "      <td>2016-02-03</td>\n",
              "      <td>수</td>\n",
              "      <td>2601</td>\n",
              "      <td>56</td>\n",
              "      <td>180</td>\n",
              "      <td>111</td>\n",
              "      <td>0.0</td>\n",
              "      <td>모닝롤/베이글  우유/두유/주스 계란후라이  표고버섯죽/쌀밥 (쌀:국내산) 콩나물국...</td>\n",
              "      <td>카레덮밥 (쌀,현미흑미:국내산) 팽이장국  치킨핑거 (닭고기:국내산) 쫄면야채무침 ...</td>\n",
              "      <td>쌀밥/잡곡밥 (쌀,현미흑미:국내산) 청국장찌개  황태양념구이 (황태:러시아산) 고기...</td>\n",
              "      <td>1017.0</td>\n",
              "      <td>573.0</td>\n",
              "      <td>2</td>\n",
              "    </tr>\n",
              "  </tbody>\n",
              "</table>\n",
              "</div>\n",
              "      <button class=\"colab-df-convert\" onclick=\"convertToInteractive('df-7f4424b8-689d-4153-8863-145eb7dee038')\"\n",
              "              title=\"Convert this dataframe to an interactive table.\"\n",
              "              style=\"display:none;\">\n",
              "        \n",
              "  <svg xmlns=\"http://www.w3.org/2000/svg\" height=\"24px\"viewBox=\"0 0 24 24\"\n",
              "       width=\"24px\">\n",
              "    <path d=\"M0 0h24v24H0V0z\" fill=\"none\"/>\n",
              "    <path d=\"M18.56 5.44l.94 2.06.94-2.06 2.06-.94-2.06-.94-.94-2.06-.94 2.06-2.06.94zm-11 1L8.5 8.5l.94-2.06 2.06-.94-2.06-.94L8.5 2.5l-.94 2.06-2.06.94zm10 10l.94 2.06.94-2.06 2.06-.94-2.06-.94-.94-2.06-.94 2.06-2.06.94z\"/><path d=\"M17.41 7.96l-1.37-1.37c-.4-.4-.92-.59-1.43-.59-.52 0-1.04.2-1.43.59L10.3 9.45l-7.72 7.72c-.78.78-.78 2.05 0 2.83L4 21.41c.39.39.9.59 1.41.59.51 0 1.02-.2 1.41-.59l7.78-7.78 2.81-2.81c.8-.78.8-2.07 0-2.86zM5.41 20L4 18.59l7.72-7.72 1.47 1.35L5.41 20z\"/>\n",
              "  </svg>\n",
              "      </button>\n",
              "      \n",
              "  <style>\n",
              "    .colab-df-container {\n",
              "      display:flex;\n",
              "      flex-wrap:wrap;\n",
              "      gap: 12px;\n",
              "    }\n",
              "\n",
              "    .colab-df-convert {\n",
              "      background-color: #E8F0FE;\n",
              "      border: none;\n",
              "      border-radius: 50%;\n",
              "      cursor: pointer;\n",
              "      display: none;\n",
              "      fill: #1967D2;\n",
              "      height: 32px;\n",
              "      padding: 0 0 0 0;\n",
              "      width: 32px;\n",
              "    }\n",
              "\n",
              "    .colab-df-convert:hover {\n",
              "      background-color: #E2EBFA;\n",
              "      box-shadow: 0px 1px 2px rgba(60, 64, 67, 0.3), 0px 1px 3px 1px rgba(60, 64, 67, 0.15);\n",
              "      fill: #174EA6;\n",
              "    }\n",
              "\n",
              "    [theme=dark] .colab-df-convert {\n",
              "      background-color: #3B4455;\n",
              "      fill: #D2E3FC;\n",
              "    }\n",
              "\n",
              "    [theme=dark] .colab-df-convert:hover {\n",
              "      background-color: #434B5C;\n",
              "      box-shadow: 0px 1px 3px 1px rgba(0, 0, 0, 0.15);\n",
              "      filter: drop-shadow(0px 1px 2px rgba(0, 0, 0, 0.3));\n",
              "      fill: #FFFFFF;\n",
              "    }\n",
              "  </style>\n",
              "\n",
              "      <script>\n",
              "        const buttonEl =\n",
              "          document.querySelector('#df-7f4424b8-689d-4153-8863-145eb7dee038 button.colab-df-convert');\n",
              "        buttonEl.style.display =\n",
              "          google.colab.kernel.accessAllowed ? 'block' : 'none';\n",
              "\n",
              "        async function convertToInteractive(key) {\n",
              "          const element = document.querySelector('#df-7f4424b8-689d-4153-8863-145eb7dee038');\n",
              "          const dataTable =\n",
              "            await google.colab.kernel.invokeFunction('convertToInteractive',\n",
              "                                                     [key], {});\n",
              "          if (!dataTable) return;\n",
              "\n",
              "          const docLinkHtml = 'Like what you see? Visit the ' +\n",
              "            '<a target=\"_blank\" href=https://colab.research.google.com/notebooks/data_table.ipynb>data table notebook</a>'\n",
              "            + ' to learn more about interactive tables.';\n",
              "          element.innerHTML = '';\n",
              "          dataTable['output_type'] = 'display_data';\n",
              "          await google.colab.output.renderOutput(dataTable, element);\n",
              "          const docLink = document.createElement('div');\n",
              "          docLink.innerHTML = docLinkHtml;\n",
              "          element.appendChild(docLink);\n",
              "        }\n",
              "      </script>\n",
              "    </div>\n",
              "  </div>\n",
              "  "
            ]
          },
          "metadata": {},
          "execution_count": 11
        }
      ]
    },
    {
      "cell_type": "code",
      "source": [
        "#월별 데이터 정리\n",
        "df_month = df.groupby('month')[['중식계', '석식계']].mean()\n",
        "df_month['index'] = df_month.index.astype(str)          #아래 그래프에서 모든 month를 표시하기 위해 문자로 지정했음\n",
        "df_month.head(3)"
      ],
      "metadata": {
        "colab": {
          "base_uri": "https://localhost:8080/",
          "height": 175
        },
        "id": "9LJuBfi9YaxL",
        "outputId": "fd8646ab-f00f-4f71-f377-4d02f1be7722"
      },
      "execution_count": null,
      "outputs": [
        {
          "output_type": "execute_result",
          "data": {
            "text/plain": [
              "              중식계         석식계 index\n",
              "month                              \n",
              "1      934.247525  424.564356     1\n",
              "2      989.623656  514.860215     2\n",
              "3      953.607477  530.700935     3"
            ],
            "text/html": [
              "\n",
              "  <div id=\"df-5e892363-4561-4d56-83b6-6a27b4266b00\">\n",
              "    <div class=\"colab-df-container\">\n",
              "      <div>\n",
              "<style scoped>\n",
              "    .dataframe tbody tr th:only-of-type {\n",
              "        vertical-align: middle;\n",
              "    }\n",
              "\n",
              "    .dataframe tbody tr th {\n",
              "        vertical-align: top;\n",
              "    }\n",
              "\n",
              "    .dataframe thead th {\n",
              "        text-align: right;\n",
              "    }\n",
              "</style>\n",
              "<table border=\"1\" class=\"dataframe\">\n",
              "  <thead>\n",
              "    <tr style=\"text-align: right;\">\n",
              "      <th></th>\n",
              "      <th>중식계</th>\n",
              "      <th>석식계</th>\n",
              "      <th>index</th>\n",
              "    </tr>\n",
              "    <tr>\n",
              "      <th>month</th>\n",
              "      <th></th>\n",
              "      <th></th>\n",
              "      <th></th>\n",
              "    </tr>\n",
              "  </thead>\n",
              "  <tbody>\n",
              "    <tr>\n",
              "      <th>1</th>\n",
              "      <td>934.247525</td>\n",
              "      <td>424.564356</td>\n",
              "      <td>1</td>\n",
              "    </tr>\n",
              "    <tr>\n",
              "      <th>2</th>\n",
              "      <td>989.623656</td>\n",
              "      <td>514.860215</td>\n",
              "      <td>2</td>\n",
              "    </tr>\n",
              "    <tr>\n",
              "      <th>3</th>\n",
              "      <td>953.607477</td>\n",
              "      <td>530.700935</td>\n",
              "      <td>3</td>\n",
              "    </tr>\n",
              "  </tbody>\n",
              "</table>\n",
              "</div>\n",
              "      <button class=\"colab-df-convert\" onclick=\"convertToInteractive('df-5e892363-4561-4d56-83b6-6a27b4266b00')\"\n",
              "              title=\"Convert this dataframe to an interactive table.\"\n",
              "              style=\"display:none;\">\n",
              "        \n",
              "  <svg xmlns=\"http://www.w3.org/2000/svg\" height=\"24px\"viewBox=\"0 0 24 24\"\n",
              "       width=\"24px\">\n",
              "    <path d=\"M0 0h24v24H0V0z\" fill=\"none\"/>\n",
              "    <path d=\"M18.56 5.44l.94 2.06.94-2.06 2.06-.94-2.06-.94-.94-2.06-.94 2.06-2.06.94zm-11 1L8.5 8.5l.94-2.06 2.06-.94-2.06-.94L8.5 2.5l-.94 2.06-2.06.94zm10 10l.94 2.06.94-2.06 2.06-.94-2.06-.94-.94-2.06-.94 2.06-2.06.94z\"/><path d=\"M17.41 7.96l-1.37-1.37c-.4-.4-.92-.59-1.43-.59-.52 0-1.04.2-1.43.59L10.3 9.45l-7.72 7.72c-.78.78-.78 2.05 0 2.83L4 21.41c.39.39.9.59 1.41.59.51 0 1.02-.2 1.41-.59l7.78-7.78 2.81-2.81c.8-.78.8-2.07 0-2.86zM5.41 20L4 18.59l7.72-7.72 1.47 1.35L5.41 20z\"/>\n",
              "  </svg>\n",
              "      </button>\n",
              "      \n",
              "  <style>\n",
              "    .colab-df-container {\n",
              "      display:flex;\n",
              "      flex-wrap:wrap;\n",
              "      gap: 12px;\n",
              "    }\n",
              "\n",
              "    .colab-df-convert {\n",
              "      background-color: #E8F0FE;\n",
              "      border: none;\n",
              "      border-radius: 50%;\n",
              "      cursor: pointer;\n",
              "      display: none;\n",
              "      fill: #1967D2;\n",
              "      height: 32px;\n",
              "      padding: 0 0 0 0;\n",
              "      width: 32px;\n",
              "    }\n",
              "\n",
              "    .colab-df-convert:hover {\n",
              "      background-color: #E2EBFA;\n",
              "      box-shadow: 0px 1px 2px rgba(60, 64, 67, 0.3), 0px 1px 3px 1px rgba(60, 64, 67, 0.15);\n",
              "      fill: #174EA6;\n",
              "    }\n",
              "\n",
              "    [theme=dark] .colab-df-convert {\n",
              "      background-color: #3B4455;\n",
              "      fill: #D2E3FC;\n",
              "    }\n",
              "\n",
              "    [theme=dark] .colab-df-convert:hover {\n",
              "      background-color: #434B5C;\n",
              "      box-shadow: 0px 1px 3px 1px rgba(0, 0, 0, 0.15);\n",
              "      filter: drop-shadow(0px 1px 2px rgba(0, 0, 0, 0.3));\n",
              "      fill: #FFFFFF;\n",
              "    }\n",
              "  </style>\n",
              "\n",
              "      <script>\n",
              "        const buttonEl =\n",
              "          document.querySelector('#df-5e892363-4561-4d56-83b6-6a27b4266b00 button.colab-df-convert');\n",
              "        buttonEl.style.display =\n",
              "          google.colab.kernel.accessAllowed ? 'block' : 'none';\n",
              "\n",
              "        async function convertToInteractive(key) {\n",
              "          const element = document.querySelector('#df-5e892363-4561-4d56-83b6-6a27b4266b00');\n",
              "          const dataTable =\n",
              "            await google.colab.kernel.invokeFunction('convertToInteractive',\n",
              "                                                     [key], {});\n",
              "          if (!dataTable) return;\n",
              "\n",
              "          const docLinkHtml = 'Like what you see? Visit the ' +\n",
              "            '<a target=\"_blank\" href=https://colab.research.google.com/notebooks/data_table.ipynb>data table notebook</a>'\n",
              "            + ' to learn more about interactive tables.';\n",
              "          element.innerHTML = '';\n",
              "          dataTable['output_type'] = 'display_data';\n",
              "          await google.colab.output.renderOutput(dataTable, element);\n",
              "          const docLink = document.createElement('div');\n",
              "          docLink.innerHTML = docLinkHtml;\n",
              "          element.appendChild(docLink);\n",
              "        }\n",
              "      </script>\n",
              "    </div>\n",
              "  </div>\n",
              "  "
            ]
          },
          "metadata": {},
          "execution_count": 12
        }
      ]
    },
    {
      "cell_type": "code",
      "source": [
        "# ▶ 월 별 평균 식수(중식계)\n",
        "fig,ax = plt.subplots()\n",
        "plt.bar(df_month['index'] , df_month['중식계'],color='darkgreen');"
      ],
      "metadata": {
        "colab": {
          "base_uri": "https://localhost:8080/",
          "height": 265
        },
        "id": "383iL2q-YnH9",
        "outputId": "760adcbe-2b83-4588-9b51-8a9b9e43cc46"
      },
      "execution_count": null,
      "outputs": [
        {
          "output_type": "display_data",
          "data": {
            "text/plain": [
              "<Figure size 432x288 with 1 Axes>"
            ],
            "image/png": "[encoded data removed]"
          },
          "metadata": {}
        }
      ]
    },
    {
      "cell_type": "code",
      "source": [
        "# ▶ 월 별 평균 식수(석식계)\n",
        "fig,ax = plt.subplots()\n",
        "plt.bar(df_month['index'] , df_month['석식계'],color='deeppink');"
      ],
      "metadata": {
        "colab": {
          "base_uri": "https://localhost:8080/",
          "height": 265
        },
        "id": "dL0RHJgAZVCd",
        "outputId": "9c51ce97-e28b-4260-e6d5-d65f98f89ef3"
      },
      "execution_count": null,
      "outputs": [
        {
          "output_type": "display_data",
          "data": {
            "text/plain": [
              "<Figure size 432x288 with 1 Axes>"
            ],
            "image/png": "[encoded data removed]"
          },
          "metadata": {}
        }
      ]
    },
    {
      "cell_type": "markdown",
      "source": [
        "## **🥈Session 2**  \n",
        "**┗ 메뉴 데이터 처리**  \n",
        "---\n",
        "* 메뉴인 Text 데이터를 활용하기 위한 데이터 전처리"
      ],
      "metadata": {
        "id": "SShYoAec4LmN"
      }
    },
    {
      "cell_type": "markdown",
      "source": [
        "### · Text data split\n",
        "---\n"
      ],
      "metadata": {
        "id": "mK9SqDSh-F5Z"
      }
    },
    {
      "cell_type": "code",
      "source": [
        "# ▶ 메뉴 데이터가 공백(' ')으로 나뉘어져 있음\n",
        "df['조식메뉴'][0]"
      ],
      "metadata": {
        "colab": {
          "base_uri": "https://localhost:8080/",
          "height": 35
        },
        "id": "oxB9OWYd7PmQ",
        "outputId": "8843d463-108c-4b3d-d924-ed97282b98ee"
      },
      "execution_count": null,
      "outputs": [
        {
          "output_type": "execute_result",
          "data": {
            "text/plain": [
              "'모닝롤/찐빵  우유/두유/주스 계란후라이  호두죽/쌀밥 (쌀:국내산) 된장찌개  쥐어채무침  포기김치 (배추,고추가루:국내산) '"
            ],
            "application/vnd.google.colaboratory.intrinsic+json": {
              "type": "string"
            }
          },
          "metadata": {},
          "execution_count": 56
        }
      ]
    },
    {
      "cell_type": "code",
      "source": [
        "# ▶ 공백도 2칸과 1칸으로 비균일하게 나뉘어져 있음\n",
        "print(df['조식메뉴'][0].replace('','*'))"
      ],
      "metadata": {
        "colab": {
          "base_uri": "https://localhost:8080/"
        },
        "id": "ZE9itIEv7k_X",
        "outputId": "ff1d3f2d-5704-43d1-b6c6-ec202985e06c"
      },
      "execution_count": null,
      "outputs": [
        {
          "output_type": "stream",
          "name": "stdout",
          "text": [
            "*모*닝*롤*/*찐*빵* * *우*유*/*두*유*/*주*스* *계*란*후*라*이* * *호*두*죽*/*쌀*밥* *(*쌀*:*국*내*산*)* *된*장*찌*개* * *쥐*어*채*무*침* * *포*기*김*치* *(*배*추*,*고*추*가*루*:*국*내*산*)* *\n"
          ]
        }
      ]
    },
    {
      "cell_type": "code",
      "source": [
        "# ▶ 공백2를 공백1로 변경\n",
        "df['조식메뉴']= df['조식메뉴'].str.replace('  ', ' ')\n",
        "df['중식메뉴']= df['중식메뉴'].str.replace('  ', ' ')\n",
        "df['석식메뉴']= df['석식메뉴'].str.replace('  ', ' ')"
      ],
      "metadata": {
        "id": "9iuPu-aYePsU"
      },
      "execution_count": null,
      "outputs": []
    },
    {
      "cell_type": "code",
      "source": [
        "df['조식메뉴'][0]\n",
        "#데이터 구분이 안되어 있음음"
      ],
      "metadata": {
        "colab": {
          "base_uri": "https://localhost:8080/",
          "height": 35
        },
        "id": "xEKcRO9Ka_qK",
        "outputId": "65d96cf6-5459-46a6-9c12-a78f48eb6c2f"
      },
      "execution_count": null,
      "outputs": [
        {
          "output_type": "execute_result",
          "data": {
            "text/plain": [
              "'모닝롤/찐빵 우유/두유/주스 계란후라이 호두죽/쌀밥 (쌀:국내산) 된장찌개 쥐어채무침 포기김치 (배추,고추가루:국내산) '"
            ],
            "application/vnd.google.colaboratory.intrinsic+json": {
              "type": "string"
            }
          },
          "metadata": {},
          "execution_count": 60
        }
      ]
    },
    {
      "cell_type": "code",
      "source": [
        "df_copy = df.copy()\n",
        "df_copy['조식메뉴'].str.split('')\n",
        "#이러면 한글자마다 분리 표시"
      ],
      "metadata": {
        "colab": {
          "base_uri": "https://localhost:8080/"
        },
        "id": "PHClzuvHzgfu",
        "outputId": "880b914b-10d5-4232-f08b-5e2e6fb730d6"
      },
      "execution_count": null,
      "outputs": [
        {
          "output_type": "execute_result",
          "data": {
            "text/plain": [
              "0       [, 모, 닝, 롤, /, 찐, 빵,  , 우, 유, /, 두, 유, /, 주, 스...\n",
              "1       [, 모, 닝, 롤, /, 단, 호, 박, 샌, 드,  , 우, 유, /, 두, 유...\n",
              "2       [, 모, 닝, 롤, /, 베, 이, 글,  , 우, 유, /, 두, 유, /, 주...\n",
              "3       [, 모, 닝, 롤, /, 토, 마, 토, 샌, 드,  , 우, 유, /, 두, 유...\n",
              "4       [, 모, 닝, 롤, /, 와, 플,  , 우, 유, /, 두, 유, /, 주, 스...\n",
              "                              ...                        \n",
              "1200    [, 모, 닝, 롤, /, 페, 퍼, 로, 니, 피, 자,  , 우, 유, /, 주...\n",
              "1201    [, 모, 닝, 롤, /, 생, 크, 림, 단, 팥, 빵,  , 우, 유, /, 주...\n",
              "1202    [, 모, 닝, 롤, /, B, L, T, 샌, 드, 위, 치,  , 우, 유, /...\n",
              "1203    [, 모, 닝, 롤, /, 호, 박, 고, 구, 마, 오, 븐, 구, 이,  , 우...\n",
              "1204    [, 모, 닝, 롤, /, 야, 채, 샌, 드,  , 우, 유, /, 주, 스,  ...\n",
              "Name: 조식메뉴, Length: 1205, dtype: object"
            ]
          },
          "metadata": {},
          "execution_count": 61
        }
      ]
    },
    {
      "cell_type": "code",
      "source": [
        " # ▶ 공백으로 데이터를 Split\n",
        "  #이를 통해 데이터 구분\n",
        "df['조식메뉴'].str.split(' ')"
      ],
      "metadata": {
        "colab": {
          "base_uri": "https://localhost:8080/"
        },
        "id": "k_gIfQVDz-BE",
        "outputId": "a085803a-f370-4446-d617-c6bd2c8d14ca"
      },
      "execution_count": null,
      "outputs": [
        {
          "output_type": "execute_result",
          "data": {
            "text/plain": [
              "0       [모닝롤/찐빵, 우유/두유/주스, 계란후라이, 호두죽/쌀밥, (쌀:국내산), 된장찌...\n",
              "1       [모닝롤/단호박샌드, 우유/두유/주스, 계란후라이, 팥죽/쌀밥, (쌀:국내산), 호...\n",
              "2       [모닝롤/베이글, 우유/두유/주스, 계란후라이, 표고버섯죽/쌀밥, (쌀:국내산), ...\n",
              "3       [모닝롤/토마토샌드, 우유/두유/주스, 계란후라이, 닭죽/쌀밥, (쌀,닭:국내산),...\n",
              "4       [모닝롤/와플, 우유/두유/주스, 계란후라이, 쇠고기죽/쌀밥, (쌀:국내산), 재첩...\n",
              "                              ...                        \n",
              "1200    [모닝롤/페퍼로니피자, 우유/주스, 계란후라이/찐계란, 크루통크림스프/흑미밥, 아귀...\n",
              "1201    [모닝롤/생크림단팥빵, 우유/주스, 계란후라이/찐계란, 누룽지탕/흑미밥, 떡국, 해...\n",
              "1202    [모닝롤/BLT샌드위치, 우유/주스, 계란후라이/찐계란, 흑임자죽/흑미밥, 바지락살...\n",
              "1203    [모닝롤/호박고구마오븐구이, 우유/주스, 계란후라이/찐계란, 누룽지탕/흑미밥, 감자...\n",
              "1204    [모닝롤/야채샌드, 우유/주스, 계란후라이/찐계란, 참치죽/흑미밥, 홍합탕, 애호박...\n",
              "Name: 조식메뉴, Length: 1205, dtype: object"
            ]
          },
          "metadata": {},
          "execution_count": 26
        }
      ]
    },
    {
      "cell_type": "code",
      "source": [
        " # ▶ 공백으로 나눈 데이터중 첫번째 list만 가져와서 Main 메뉴로 활용\n",
        "df['조식메뉴'].str.split(' ').str[0]"
      ],
      "metadata": {
        "colab": {
          "base_uri": "https://localhost:8080/"
        },
        "id": "Mt_gtitg9T7A",
        "outputId": "5838f0ba-3ea2-4da9-d453-d2e269ce15a6"
      },
      "execution_count": null,
      "outputs": [
        {
          "output_type": "execute_result",
          "data": {
            "text/plain": [
              "0              모닝롤/찐빵\n",
              "1           모닝롤/단호박샌드\n",
              "2             모닝롤/베이글\n",
              "3           모닝롤/토마토샌드\n",
              "4              모닝롤/와플\n",
              "            ...      \n",
              "1200       모닝롤/페퍼로니피자\n",
              "1201       모닝롤/생크림단팥빵\n",
              "1202      모닝롤/BLT샌드위치\n",
              "1203    모닝롤/호박고구마오븐구이\n",
              "1204         모닝롤/야채샌드\n",
              "Name: 조식메뉴, Length: 1205, dtype: object"
            ]
          },
          "metadata": {},
          "execution_count": 63
        }
      ]
    },
    {
      "cell_type": "code",
      "source": [
        "#lstrip() 활용 방법\n",
        "text='    쌀밥/잡곡밥 (쌀:국내산) 꽃게탕'\n",
        "text.lstrip()\n",
        "\n",
        "#rstrip은 오른쪽 공백 제거"
      ],
      "metadata": {
        "id": "xkx39-kvyDGv",
        "colab": {
          "base_uri": "https://localhost:8080/",
          "height": 35
        },
        "outputId": "74082ce8-0b1a-4ab9-fd22-b0001bc55068"
      },
      "execution_count": null,
      "outputs": [
        {
          "output_type": "execute_result",
          "data": {
            "text/plain": [
              "'    쌀밥/잡곡밥 (쌀:국내산) 꽃게탕'"
            ],
            "application/vnd.google.colaboratory.intrinsic+json": {
              "type": "string"
            }
          },
          "metadata": {},
          "execution_count": 65
        }
      ]
    },
    {
      "cell_type": "code",
      "source": [
        " # ▶ 왼쪽 공백을 제거 (※ 실제 데이터 적용)\n",
        "  #문자의 공백을 제거거\n",
        "df['조식메뉴'] = df['조식메뉴'].str.lstrip()\n",
        "df['중식메뉴'] = df['중식메뉴'].str.lstrip()\n",
        "df['석식메뉴'] = df['석식메뉴'].str.lstrip()"
      ],
      "metadata": {
        "id": "KMkLZD5WAS8S"
      },
      "execution_count": null,
      "outputs": []
    },
    {
      "cell_type": "code",
      "source": [
        "df['조식메뉴']"
      ],
      "metadata": {
        "colab": {
          "base_uri": "https://localhost:8080/"
        },
        "id": "GXr4Eg8x1J0v",
        "outputId": "2a19d44b-c793-4cdb-93ec-e3ec9967d8c2"
      },
      "execution_count": null,
      "outputs": [
        {
          "output_type": "execute_result",
          "data": {
            "text/plain": [
              "0       모닝롤/찐빵 우유/두유/주스 계란후라이 호두죽/쌀밥 (쌀:국내산) 된장찌개 쥐어채무...\n",
              "1       모닝롤/단호박샌드 우유/두유/주스 계란후라이 팥죽/쌀밥 (쌀:국내산) 호박젓국찌개 ...\n",
              "2       모닝롤/베이글 우유/두유/주스 계란후라이 표고버섯죽/쌀밥 (쌀:국내산) 콩나물국 느...\n",
              "3       모닝롤/토마토샌드 우유/두유/주스 계란후라이 닭죽/쌀밥 (쌀,닭:국내산) 근대국 멸...\n",
              "4       모닝롤/와플 우유/두유/주스 계란후라이 쇠고기죽/쌀밥 (쌀:국내산) 재첩국 방풍나물...\n",
              "                              ...                        \n",
              "1200    모닝롤/페퍼로니피자 우유/주스 계란후라이/찐계란 크루통크림스프/흑미밥 아귀지리 마늘...\n",
              "1201    모닝롤/생크림단팥빵 우유/주스 계란후라이/찐계란 누룽지탕/흑미밥 떡국 해물땡굴소스볶...\n",
              "1202    모닝롤/BLT샌드위치 우유/주스 계란후라이/찐계란 흑임자죽/흑미밥 바지락살국 두부조...\n",
              "1203    모닝롤/호박고구마오븐구이 우유/주스 계란후라이/찐계란 누룽지탕/흑미밥 감자양파국 분...\n",
              "1204    모닝롤/야채샌드 우유/주스 계란후라이/찐계란 참치죽/흑미밥 홍합탕 애호박새우젓볶음 ...\n",
              "Name: 조식메뉴, Length: 1205, dtype: object"
            ]
          },
          "metadata": {},
          "execution_count": 16
        }
      ]
    },
    {
      "cell_type": "code",
      "source": [
        " # ▶ 공백으로 데이터를 split 후 첫번째 객체를 가져옴 (※ 실제 데이터 적용)\n",
        "df['조식메뉴_main'] = df['조식메뉴'].str.split(' ').str[0]\n",
        "df['중식메뉴_main'] = df['중식메뉴'].str.split(' ').str[0]\n",
        "df['석식메뉴_main'] = df['석식메뉴'].str.split(' ').str[0]"
      ],
      "metadata": {
        "id": "zOC5JHI4O1od"
      },
      "execution_count": null,
      "outputs": []
    },
    {
      "cell_type": "code",
      "source": [
        "df.head(3)"
      ],
      "metadata": {
        "colab": {
          "base_uri": "https://localhost:8080/",
          "height": 951
        },
        "id": "sDa7_MewcQfl",
        "outputId": "506b566c-5aea-4ef0-a32d-d836804f3312"
      },
      "execution_count": null,
      "outputs": [
        {
          "output_type": "execute_result",
          "data": {
            "text/plain": [
              "          일자 요일  본사정원수  본사휴가자수  본사출장자수  본사시간외근무명령서승인건수  현본사소속재택근무자수  \\\n",
              "0 2016-02-01  월   2601      50     150             238          0.0   \n",
              "1 2016-02-02  화   2601      50     173             319          0.0   \n",
              "2 2016-02-03  수   2601      56     180             111          0.0   \n",
              "\n",
              "                                                조식메뉴  \\\n",
              "0  모닝롤/찐빵 우유/두유/주스 계란후라이 호두죽/쌀밥 (쌀:국내산) 된장찌개 쥐어채무...   \n",
              "1  모닝롤/단호박샌드 우유/두유/주스 계란후라이 팥죽/쌀밥 (쌀:국내산) 호박젓국찌개 ...   \n",
              "2  모닝롤/베이글 우유/두유/주스 계란후라이 표고버섯죽/쌀밥 (쌀:국내산) 콩나물국 느...   \n",
              "\n",
              "                                                중식메뉴  \\\n",
              "0  쌀밥/잡곡밥 (쌀,현미흑미:국내산) 오징어찌개 쇠불고기 (쇠고기:호주산) 계란찜 청...   \n",
              "1  쌀밥/잡곡밥 (쌀,현미흑미:국내산) 김치찌개 가자미튀김 모둠소세지구이 마늘쫑무침 요...   \n",
              "2  카레덮밥 (쌀,현미흑미:국내산) 팽이장국 치킨핑거 (닭고기:국내산) 쫄면야채무침 견...   \n",
              "\n",
              "                                                석식메뉴     중식계    석식계  month  \\\n",
              "0  쌀밥/잡곡밥 (쌀,현미흑미:국내산) 육개장 자반고등어구이 두부조림 건파래무침 포기김...  1039.0  331.0      2   \n",
              "1  콩나물밥*양념장 (쌀,현미흑미:국내산) 어묵국 유산슬 (쇠고기:호주산) 아삭고추무침...   867.0  560.0      2   \n",
              "2  쌀밥/잡곡밥 (쌀,현미흑미:국내산) 청국장찌개 황태양념구이 (황태:러시아산) 고기전...  1017.0  573.0      2   \n",
              "\n",
              "   조식메뉴_main 중식메뉴_main 석식메뉴_main  \n",
              "0     모닝롤/찐빵    쌀밥/잡곡밥    쌀밥/잡곡밥  \n",
              "1  모닝롤/단호박샌드    쌀밥/잡곡밥  콩나물밥*양념장  \n",
              "2    모닝롤/베이글      카레덮밥    쌀밥/잡곡밥  "
            ],
            "text/html": [
              "\n",
              "  <div id=\"df-463c6cf8-0c47-4246-9723-ca83dd2c0620\">\n",
              "    <div class=\"colab-df-container\">\n",
              "      <div>\n",
              "<style scoped>\n",
              "    .dataframe tbody tr th:only-of-type {\n",
              "        vertical-align: middle;\n",
              "    }\n",
              "\n",
              "    .dataframe tbody tr th {\n",
              "        vertical-align: top;\n",
              "    }\n",
              "\n",
              "    .dataframe thead th {\n",
              "        text-align: right;\n",
              "    }\n",
              "</style>\n",
              "<table border=\"1\" class=\"dataframe\">\n",
              "  <thead>\n",
              "    <tr style=\"text-align: right;\">\n",
              "      <th></th>\n",
              "      <th>일자</th>\n",
              "      <th>요일</th>\n",
              "      <th>본사정원수</th>\n",
              "      <th>본사휴가자수</th>\n",
              "      <th>본사출장자수</th>\n",
              "      <th>본사시간외근무명령서승인건수</th>\n",
              "      <th>현본사소속재택근무자수</th>\n",
              "      <th>조식메뉴</th>\n",
              "      <th>중식메뉴</th>\n",
              "      <th>석식메뉴</th>\n",
              "      <th>중식계</th>\n",
              "      <th>석식계</th>\n",
              "      <th>month</th>\n",
              "      <th>조식메뉴_main</th>\n",
              "      <th>중식메뉴_main</th>\n",
              "      <th>석식메뉴_main</th>\n",
              "    </tr>\n",
              "  </thead>\n",
              "  <tbody>\n",
              "    <tr>\n",
              "      <th>0</th>\n",
              "      <td>2016-02-01</td>\n",
              "      <td>월</td>\n",
              "      <td>2601</td>\n",
              "      <td>50</td>\n",
              "      <td>150</td>\n",
              "      <td>238</td>\n",
              "      <td>0.0</td>\n",
              "      <td>모닝롤/찐빵 우유/두유/주스 계란후라이 호두죽/쌀밥 (쌀:국내산) 된장찌개 쥐어채무...</td>\n",
              "      <td>쌀밥/잡곡밥 (쌀,현미흑미:국내산) 오징어찌개 쇠불고기 (쇠고기:호주산) 계란찜 청...</td>\n",
              "      <td>쌀밥/잡곡밥 (쌀,현미흑미:국내산) 육개장 자반고등어구이 두부조림 건파래무침 포기김...</td>\n",
              "      <td>1039.0</td>\n",
              "      <td>331.0</td>\n",
              "      <td>2</td>\n",
              "      <td>모닝롤/찐빵</td>\n",
              "      <td>쌀밥/잡곡밥</td>\n",
              "      <td>쌀밥/잡곡밥</td>\n",
              "    </tr>\n",
              "    <tr>\n",
              "      <th>1</th>\n",
              "      <td>2016-02-02</td>\n",
              "      <td>화</td>\n",
              "      <td>2601</td>\n",
              "      <td>50</td>\n",
              "      <td>173</td>\n",
              "      <td>319</td>\n",
              "      <td>0.0</td>\n",
              "      <td>모닝롤/단호박샌드 우유/두유/주스 계란후라이 팥죽/쌀밥 (쌀:국내산) 호박젓국찌개 ...</td>\n",
              "      <td>쌀밥/잡곡밥 (쌀,현미흑미:국내산) 김치찌개 가자미튀김 모둠소세지구이 마늘쫑무침 요...</td>\n",
              "      <td>콩나물밥*양념장 (쌀,현미흑미:국내산) 어묵국 유산슬 (쇠고기:호주산) 아삭고추무침...</td>\n",
              "      <td>867.0</td>\n",
              "      <td>560.0</td>\n",
              "      <td>2</td>\n",
              "      <td>모닝롤/단호박샌드</td>\n",
              "      <td>쌀밥/잡곡밥</td>\n",
              "      <td>콩나물밥*양념장</td>\n",
              "    </tr>\n",
              "    <tr>\n",
              "      <th>2</th>\n",
              "      <td>2016-02-03</td>\n",
              "      <td>수</td>\n",
              "      <td>2601</td>\n",
              "      <td>56</td>\n",
              "      <td>180</td>\n",
              "      <td>111</td>\n",
              "      <td>0.0</td>\n",
              "      <td>모닝롤/베이글 우유/두유/주스 계란후라이 표고버섯죽/쌀밥 (쌀:국내산) 콩나물국 느...</td>\n",
              "      <td>카레덮밥 (쌀,현미흑미:국내산) 팽이장국 치킨핑거 (닭고기:국내산) 쫄면야채무침 견...</td>\n",
              "      <td>쌀밥/잡곡밥 (쌀,현미흑미:국내산) 청국장찌개 황태양념구이 (황태:러시아산) 고기전...</td>\n",
              "      <td>1017.0</td>\n",
              "      <td>573.0</td>\n",
              "      <td>2</td>\n",
              "      <td>모닝롤/베이글</td>\n",
              "      <td>카레덮밥</td>\n",
              "      <td>쌀밥/잡곡밥</td>\n",
              "    </tr>\n",
              "  </tbody>\n",
              "</table>\n",
              "</div>\n",
              "      <button class=\"colab-df-convert\" onclick=\"convertToInteractive('df-463c6cf8-0c47-4246-9723-ca83dd2c0620')\"\n",
              "              title=\"Convert this dataframe to an interactive table.\"\n",
              "              style=\"display:none;\">\n",
              "        \n",
              "  <svg xmlns=\"http://www.w3.org/2000/svg\" height=\"24px\"viewBox=\"0 0 24 24\"\n",
              "       width=\"24px\">\n",
              "    <path d=\"M0 0h24v24H0V0z\" fill=\"none\"/>\n",
              "    <path d=\"M18.56 5.44l.94 2.06.94-2.06 2.06-.94-2.06-.94-.94-2.06-.94 2.06-2.06.94zm-11 1L8.5 8.5l.94-2.06 2.06-.94-2.06-.94L8.5 2.5l-.94 2.06-2.06.94zm10 10l.94 2.06.94-2.06 2.06-.94-2.06-.94-.94-2.06-.94 2.06-2.06.94z\"/><path d=\"M17.41 7.96l-1.37-1.37c-.4-.4-.92-.59-1.43-.59-.52 0-1.04.2-1.43.59L10.3 9.45l-7.72 7.72c-.78.78-.78 2.05 0 2.83L4 21.41c.39.39.9.59 1.41.59.51 0 1.02-.2 1.41-.59l7.78-7.78 2.81-2.81c.8-.78.8-2.07 0-2.86zM5.41 20L4 18.59l7.72-7.72 1.47 1.35L5.41 20z\"/>\n",
              "  </svg>\n",
              "      </button>\n",
              "      \n",
              "  <style>\n",
              "    .colab-df-container {\n",
              "      display:flex;\n",
              "      flex-wrap:wrap;\n",
              "      gap: 12px;\n",
              "    }\n",
              "\n",
              "    .colab-df-convert {\n",
              "      background-color: #E8F0FE;\n",
              "      border: none;\n",
              "      border-radius: 50%;\n",
              "      cursor: pointer;\n",
              "      display: none;\n",
              "      fill: #1967D2;\n",
              "      height: 32px;\n",
              "      padding: 0 0 0 0;\n",
              "      width: 32px;\n",
              "    }\n",
              "\n",
              "    .colab-df-convert:hover {\n",
              "      background-color: #E2EBFA;\n",
              "      box-shadow: 0px 1px 2px rgba(60, 64, 67, 0.3), 0px 1px 3px 1px rgba(60, 64, 67, 0.15);\n",
              "      fill: #174EA6;\n",
              "    }\n",
              "\n",
              "    [theme=dark] .colab-df-convert {\n",
              "      background-color: #3B4455;\n",
              "      fill: #D2E3FC;\n",
              "    }\n",
              "\n",
              "    [theme=dark] .colab-df-convert:hover {\n",
              "      background-color: #434B5C;\n",
              "      box-shadow: 0px 1px 3px 1px rgba(0, 0, 0, 0.15);\n",
              "      filter: drop-shadow(0px 1px 2px rgba(0, 0, 0, 0.3));\n",
              "      fill: #FFFFFF;\n",
              "    }\n",
              "  </style>\n",
              "\n",
              "      <script>\n",
              "        const buttonEl =\n",
              "          document.querySelector('#df-463c6cf8-0c47-4246-9723-ca83dd2c0620 button.colab-df-convert');\n",
              "        buttonEl.style.display =\n",
              "          google.colab.kernel.accessAllowed ? 'block' : 'none';\n",
              "\n",
              "        async function convertToInteractive(key) {\n",
              "          const element = document.querySelector('#df-463c6cf8-0c47-4246-9723-ca83dd2c0620');\n",
              "          const dataTable =\n",
              "            await google.colab.kernel.invokeFunction('convertToInteractive',\n",
              "                                                     [key], {});\n",
              "          if (!dataTable) return;\n",
              "\n",
              "          const docLinkHtml = 'Like what you see? Visit the ' +\n",
              "            '<a target=\"_blank\" href=https://colab.research.google.com/notebooks/data_table.ipynb>data table notebook</a>'\n",
              "            + ' to learn more about interactive tables.';\n",
              "          element.innerHTML = '';\n",
              "          dataTable['output_type'] = 'display_data';\n",
              "          await google.colab.output.renderOutput(dataTable, element);\n",
              "          const docLink = document.createElement('div');\n",
              "          docLink.innerHTML = docLinkHtml;\n",
              "          element.appendChild(docLink);\n",
              "        }\n",
              "      </script>\n",
              "    </div>\n",
              "  </div>\n",
              "  "
            ]
          },
          "metadata": {},
          "execution_count": 18
        }
      ]
    },
    {
      "cell_type": "code",
      "source": [
        " # ▶ main menu 가지수 파악\n",
        "df['조식메뉴_main'].value_counts().head(10)"
      ],
      "metadata": {
        "colab": {
          "base_uri": "https://localhost:8080/"
        },
        "id": "1fqPUl-R9ttW",
        "outputId": "3f418a77-c92c-4f73-e756-279c5d420dee"
      },
      "execution_count": null,
      "outputs": [
        {
          "output_type": "execute_result",
          "data": {
            "text/plain": [
              "모닝롤/프렌치토스트    52\n",
              "모닝롤/마늘빵       46\n",
              "모닝롤/크로와상      45\n",
              "모닝롤/찐빵        44\n",
              "모닝롤/에그샌드      43\n",
              "모닝롤/참치샌드      42\n",
              "모닝롤/와플        41\n",
              "모닝롤/야채샌드      41\n",
              "모닝롤/씨크립샌드     40\n",
              "모닝롤/단팥빵       40\n",
              "Name: 조식메뉴_main, dtype: int64"
            ]
          },
          "metadata": {},
          "execution_count": 19
        }
      ]
    },
    {
      "cell_type": "code",
      "source": [
        " # ▶ main menu 가지수 파악\n",
        "df['중식메뉴_main'].value_counts().head(10)"
      ],
      "metadata": {
        "colab": {
          "base_uri": "https://localhost:8080/"
        },
        "id": "HcoIlvmp904Y",
        "outputId": "99f9b032-0179-4eea-ed58-19356101891a"
      },
      "execution_count": null,
      "outputs": [
        {
          "output_type": "execute_result",
          "data": {
            "text/plain": [
              "쌀밥/잡곡밥         879\n",
              "쌀밥/흑미밥/찰현미밥     74\n",
              "콩나물밥            23\n",
              "카레덮밥            18\n",
              "나물비빔밥           15\n",
              "곤드레밥*강된장        12\n",
              "단호박영양밥          10\n",
              "쌀밥/수수밥/찰현미밥     10\n",
              "곤드레밥*양념장         8\n",
              "김치제육덮밥           8\n",
              "Name: 중식메뉴_main, dtype: int64"
            ]
          },
          "metadata": {},
          "execution_count": 33
        }
      ]
    },
    {
      "cell_type": "code",
      "source": [
        " # ▶ main menu 가지수 파악\n",
        "df['석식메뉴_main'].value_counts().head(10)"
      ],
      "metadata": {
        "colab": {
          "base_uri": "https://localhost:8080/"
        },
        "id": "IRp7DJNx95Co",
        "outputId": "6f3b3e10-c717-43ea-a716-29953e4f9374"
      },
      "execution_count": null,
      "outputs": [
        {
          "output_type": "execute_result",
          "data": {
            "text/plain": [
              "쌀밥/잡곡밥    657\n",
              "흑미밥        92\n",
              "*          28\n",
              "김밥         25\n",
              "유부초밥       25\n",
              "오므라이스      22\n",
              "멸치주먹밥      21\n",
              "참치주먹밥      18\n",
              "충무김밥       16\n",
              "김치볶음밥      15\n",
              "Name: 석식메뉴_main, dtype: int64"
            ]
          },
          "metadata": {},
          "execution_count": 20
        }
      ]
    },
    {
      "cell_type": "markdown",
      "source": [
        "### · Menu data EDA\n",
        "---\n"
      ],
      "metadata": {
        "id": "zux5C0ic-LI5"
      }
    },
    {
      "cell_type": "code",
      "source": [
        "df['중식계'].mean()"
      ],
      "metadata": {
        "colab": {
          "base_uri": "https://localhost:8080/"
        },
        "id": "FKJdQPljhkD8",
        "outputId": "f2aa3ce4-ceb6-4f4f-f572-34b8fba42875"
      },
      "execution_count": null,
      "outputs": [
        {
          "output_type": "execute_result",
          "data": {
            "text/plain": [
              "890.3344398340249"
            ]
          },
          "metadata": {},
          "execution_count": 36
        }
      ]
    },
    {
      "cell_type": "code",
      "source": [
        " # ▶ main menu에 따른 식수 인원\n",
        "  #중식계 먼저 진행\n",
        "   #바지락비빔밥이 가장 인기가 많고, 상위 5개 이상은 평균이상의 중식계를 보여줌줌\n",
        "\n",
        "df_lunch = pd.DataFrame(df.groupby('중식메뉴_main')['중식계'].mean())\n",
        "df_lunch.sort_values(by = ['중식계'], ascending = False)"
      ],
      "metadata": {
        "colab": {
          "base_uri": "https://localhost:8080/",
          "height": 455
        },
        "id": "S4AwXlS7-PUw",
        "outputId": "97aebc8a-e7f9-4bd4-c9ae-63a643ea2b34"
      },
      "execution_count": null,
      "outputs": [
        {
          "output_type": "execute_result",
          "data": {
            "text/plain": [
              "                 중식계\n",
              "중식메뉴_main           \n",
              "(New)바지락비빔밥   1188.0\n",
              "삼계탕           1116.0\n",
              "쌀밥/팥밥/찰현미밥    1059.0\n",
              "쌀밥/보리밥/찰현미밥   1049.5\n",
              "쌀밥/강낭콩밥/찰현미밥  1034.0\n",
              "...              ...\n",
              "김치볶음밥          543.0\n",
              "야채볶음밥*짜장소스     535.0\n",
              "돈육버섯고추장덮밥      516.0\n",
              "베이컨김치볶음밥       505.0\n",
              "파인애플볶음밥        387.0\n",
              "\n",
              "[75 rows x 1 columns]"
            ],
            "text/html": [
              "\n",
              "  <div id=\"df-4e5aae8e-0a2f-4f06-b5ca-34e1fa5cda07\">\n",
              "    <div class=\"colab-df-container\">\n",
              "      <div>\n",
              "<style scoped>\n",
              "    .dataframe tbody tr th:only-of-type {\n",
              "        vertical-align: middle;\n",
              "    }\n",
              "\n",
              "    .dataframe tbody tr th {\n",
              "        vertical-align: top;\n",
              "    }\n",
              "\n",
              "    .dataframe thead th {\n",
              "        text-align: right;\n",
              "    }\n",
              "</style>\n",
              "<table border=\"1\" class=\"dataframe\">\n",
              "  <thead>\n",
              "    <tr style=\"text-align: right;\">\n",
              "      <th></th>\n",
              "      <th>중식계</th>\n",
              "    </tr>\n",
              "    <tr>\n",
              "      <th>중식메뉴_main</th>\n",
              "      <th></th>\n",
              "    </tr>\n",
              "  </thead>\n",
              "  <tbody>\n",
              "    <tr>\n",
              "      <th>(New)바지락비빔밥</th>\n",
              "      <td>1188.0</td>\n",
              "    </tr>\n",
              "    <tr>\n",
              "      <th>삼계탕</th>\n",
              "      <td>1116.0</td>\n",
              "    </tr>\n",
              "    <tr>\n",
              "      <th>쌀밥/팥밥/찰현미밥</th>\n",
              "      <td>1059.0</td>\n",
              "    </tr>\n",
              "    <tr>\n",
              "      <th>쌀밥/보리밥/찰현미밥</th>\n",
              "      <td>1049.5</td>\n",
              "    </tr>\n",
              "    <tr>\n",
              "      <th>쌀밥/강낭콩밥/찰현미밥</th>\n",
              "      <td>1034.0</td>\n",
              "    </tr>\n",
              "    <tr>\n",
              "      <th>...</th>\n",
              "      <td>...</td>\n",
              "    </tr>\n",
              "    <tr>\n",
              "      <th>김치볶음밥</th>\n",
              "      <td>543.0</td>\n",
              "    </tr>\n",
              "    <tr>\n",
              "      <th>야채볶음밥*짜장소스</th>\n",
              "      <td>535.0</td>\n",
              "    </tr>\n",
              "    <tr>\n",
              "      <th>돈육버섯고추장덮밥</th>\n",
              "      <td>516.0</td>\n",
              "    </tr>\n",
              "    <tr>\n",
              "      <th>베이컨김치볶음밥</th>\n",
              "      <td>505.0</td>\n",
              "    </tr>\n",
              "    <tr>\n",
              "      <th>파인애플볶음밥</th>\n",
              "      <td>387.0</td>\n",
              "    </tr>\n",
              "  </tbody>\n",
              "</table>\n",
              "<p>75 rows × 1 columns</p>\n",
              "</div>\n",
              "      <button class=\"colab-df-convert\" onclick=\"convertToInteractive('df-4e5aae8e-0a2f-4f06-b5ca-34e1fa5cda07')\"\n",
              "              title=\"Convert this dataframe to an interactive table.\"\n",
              "              style=\"display:none;\">\n",
              "        \n",
              "  <svg xmlns=\"http://www.w3.org/2000/svg\" height=\"24px\"viewBox=\"0 0 24 24\"\n",
              "       width=\"24px\">\n",
              "    <path d=\"M0 0h24v24H0V0z\" fill=\"none\"/>\n",
              "    <path d=\"M18.56 5.44l.94 2.06.94-2.06 2.06-.94-2.06-.94-.94-2.06-.94 2.06-2.06.94zm-11 1L8.5 8.5l.94-2.06 2.06-.94-2.06-.94L8.5 2.5l-.94 2.06-2.06.94zm10 10l.94 2.06.94-2.06 2.06-.94-2.06-.94-.94-2.06-.94 2.06-2.06.94z\"/><path d=\"M17.41 7.96l-1.37-1.37c-.4-.4-.92-.59-1.43-.59-.52 0-1.04.2-1.43.59L10.3 9.45l-7.72 7.72c-.78.78-.78 2.05 0 2.83L4 21.41c.39.39.9.59 1.41.59.51 0 1.02-.2 1.41-.59l7.78-7.78 2.81-2.81c.8-.78.8-2.07 0-2.86zM5.41 20L4 18.59l7.72-7.72 1.47 1.35L5.41 20z\"/>\n",
              "  </svg>\n",
              "      </button>\n",
              "      \n",
              "  <style>\n",
              "    .colab-df-container {\n",
              "      display:flex;\n",
              "      flex-wrap:wrap;\n",
              "      gap: 12px;\n",
              "    }\n",
              "\n",
              "    .colab-df-convert {\n",
              "      background-color: #E8F0FE;\n",
              "      border: none;\n",
              "      border-radius: 50%;\n",
              "      cursor: pointer;\n",
              "      display: none;\n",
              "      fill: #1967D2;\n",
              "      height: 32px;\n",
              "      padding: 0 0 0 0;\n",
              "      width: 32px;\n",
              "    }\n",
              "\n",
              "    .colab-df-convert:hover {\n",
              "      background-color: #E2EBFA;\n",
              "      box-shadow: 0px 1px 2px rgba(60, 64, 67, 0.3), 0px 1px 3px 1px rgba(60, 64, 67, 0.15);\n",
              "      fill: #174EA6;\n",
              "    }\n",
              "\n",
              "    [theme=dark] .colab-df-convert {\n",
              "      background-color: #3B4455;\n",
              "      fill: #D2E3FC;\n",
              "    }\n",
              "\n",
              "    [theme=dark] .colab-df-convert:hover {\n",
              "      background-color: #434B5C;\n",
              "      box-shadow: 0px 1px 3px 1px rgba(0, 0, 0, 0.15);\n",
              "      filter: drop-shadow(0px 1px 2px rgba(0, 0, 0, 0.3));\n",
              "      fill: #FFFFFF;\n",
              "    }\n",
              "  </style>\n",
              "\n",
              "      <script>\n",
              "        const buttonEl =\n",
              "          document.querySelector('#df-4e5aae8e-0a2f-4f06-b5ca-34e1fa5cda07 button.colab-df-convert');\n",
              "        buttonEl.style.display =\n",
              "          google.colab.kernel.accessAllowed ? 'block' : 'none';\n",
              "\n",
              "        async function convertToInteractive(key) {\n",
              "          const element = document.querySelector('#df-4e5aae8e-0a2f-4f06-b5ca-34e1fa5cda07');\n",
              "          const dataTable =\n",
              "            await google.colab.kernel.invokeFunction('convertToInteractive',\n",
              "                                                     [key], {});\n",
              "          if (!dataTable) return;\n",
              "\n",
              "          const docLinkHtml = 'Like what you see? Visit the ' +\n",
              "            '<a target=\"_blank\" href=https://colab.research.google.com/notebooks/data_table.ipynb>data table notebook</a>'\n",
              "            + ' to learn more about interactive tables.';\n",
              "          element.innerHTML = '';\n",
              "          dataTable['output_type'] = 'display_data';\n",
              "          await google.colab.output.renderOutput(dataTable, element);\n",
              "          const docLink = document.createElement('div');\n",
              "          docLink.innerHTML = docLinkHtml;\n",
              "          element.appendChild(docLink);\n",
              "        }\n",
              "      </script>\n",
              "    </div>\n",
              "  </div>\n",
              "  "
            ]
          },
          "metadata": {},
          "execution_count": 24
        }
      ]
    },
    {
      "cell_type": "code",
      "source": [
        "df['석식계'].mean()"
      ],
      "metadata": {
        "colab": {
          "base_uri": "https://localhost:8080/"
        },
        "id": "bASIhCAsiE0l",
        "outputId": "f8447ad6-3f67-4940-c4c3-72b1ff27ef9c"
      },
      "execution_count": null,
      "outputs": [
        {
          "output_type": "execute_result",
          "data": {
            "text/plain": [
              "461.77261410788384"
            ]
          },
          "metadata": {},
          "execution_count": 38
        }
      ]
    },
    {
      "cell_type": "code",
      "source": [
        " # ▶ main menu에 따른 식수 인원\n",
        " # ▶ 석식메뉴가 없는 데이터도 존재\n",
        " df_dinner = pd.DataFrame(df.groupby('석식메뉴_main')[['석식계']].mean())\n",
        " df_dinner.sort_values(by=['석식계'],ascending=False).head(10)"
      ],
      "metadata": {
        "colab": {
          "base_uri": "https://localhost:8080/",
          "height": 394
        },
        "id": "BEsRA3Rj_Tfb",
        "outputId": "e27da52c-8346-45ad-8478-d51c0dd1c2e3"
      },
      "execution_count": null,
      "outputs": [
        {
          "output_type": "execute_result",
          "data": {
            "text/plain": [
              "                석식계\n",
              "석식메뉴_main          \n",
              "마파두부          685.0\n",
              "마늘베이컨볶음밥      645.0\n",
              "김밥/맑은국        645.0\n",
              "참치덮밥          640.0\n",
              "고추잡채덮밥        633.0\n",
              "투움바스파게티       629.0\n",
              "짜장면/작은밥       619.5\n",
              "버섯영양밥*우렁양념장   614.0\n",
              "토마토스파게티(작은밥)  607.0\n",
              "부채살오므라이스      599.0"
            ],
            "text/html": [
              "\n",
              "  <div id=\"df-e5d0ab25-a6b4-4fa8-bdd9-d8818ba5e163\">\n",
              "    <div class=\"colab-df-container\">\n",
              "      <div>\n",
              "<style scoped>\n",
              "    .dataframe tbody tr th:only-of-type {\n",
              "        vertical-align: middle;\n",
              "    }\n",
              "\n",
              "    .dataframe tbody tr th {\n",
              "        vertical-align: top;\n",
              "    }\n",
              "\n",
              "    .dataframe thead th {\n",
              "        text-align: right;\n",
              "    }\n",
              "</style>\n",
              "<table border=\"1\" class=\"dataframe\">\n",
              "  <thead>\n",
              "    <tr style=\"text-align: right;\">\n",
              "      <th></th>\n",
              "      <th>석식계</th>\n",
              "    </tr>\n",
              "    <tr>\n",
              "      <th>석식메뉴_main</th>\n",
              "      <th></th>\n",
              "    </tr>\n",
              "  </thead>\n",
              "  <tbody>\n",
              "    <tr>\n",
              "      <th>마파두부</th>\n",
              "      <td>685.0</td>\n",
              "    </tr>\n",
              "    <tr>\n",
              "      <th>마늘베이컨볶음밥</th>\n",
              "      <td>645.0</td>\n",
              "    </tr>\n",
              "    <tr>\n",
              "      <th>김밥/맑은국</th>\n",
              "      <td>645.0</td>\n",
              "    </tr>\n",
              "    <tr>\n",
              "      <th>참치덮밥</th>\n",
              "      <td>640.0</td>\n",
              "    </tr>\n",
              "    <tr>\n",
              "      <th>고추잡채덮밥</th>\n",
              "      <td>633.0</td>\n",
              "    </tr>\n",
              "    <tr>\n",
              "      <th>투움바스파게티</th>\n",
              "      <td>629.0</td>\n",
              "    </tr>\n",
              "    <tr>\n",
              "      <th>짜장면/작은밥</th>\n",
              "      <td>619.5</td>\n",
              "    </tr>\n",
              "    <tr>\n",
              "      <th>버섯영양밥*우렁양념장</th>\n",
              "      <td>614.0</td>\n",
              "    </tr>\n",
              "    <tr>\n",
              "      <th>토마토스파게티(작은밥)</th>\n",
              "      <td>607.0</td>\n",
              "    </tr>\n",
              "    <tr>\n",
              "      <th>부채살오므라이스</th>\n",
              "      <td>599.0</td>\n",
              "    </tr>\n",
              "  </tbody>\n",
              "</table>\n",
              "</div>\n",
              "      <button class=\"colab-df-convert\" onclick=\"convertToInteractive('df-e5d0ab25-a6b4-4fa8-bdd9-d8818ba5e163')\"\n",
              "              title=\"Convert this dataframe to an interactive table.\"\n",
              "              style=\"display:none;\">\n",
              "        \n",
              "  <svg xmlns=\"http://www.w3.org/2000/svg\" height=\"24px\"viewBox=\"0 0 24 24\"\n",
              "       width=\"24px\">\n",
              "    <path d=\"M0 0h24v24H0V0z\" fill=\"none\"/>\n",
              "    <path d=\"M18.56 5.44l.94 2.06.94-2.06 2.06-.94-2.06-.94-.94-2.06-.94 2.06-2.06.94zm-11 1L8.5 8.5l.94-2.06 2.06-.94-2.06-.94L8.5 2.5l-.94 2.06-2.06.94zm10 10l.94 2.06.94-2.06 2.06-.94-2.06-.94-.94-2.06-.94 2.06-2.06.94z\"/><path d=\"M17.41 7.96l-1.37-1.37c-.4-.4-.92-.59-1.43-.59-.52 0-1.04.2-1.43.59L10.3 9.45l-7.72 7.72c-.78.78-.78 2.05 0 2.83L4 21.41c.39.39.9.59 1.41.59.51 0 1.02-.2 1.41-.59l7.78-7.78 2.81-2.81c.8-.78.8-2.07 0-2.86zM5.41 20L4 18.59l7.72-7.72 1.47 1.35L5.41 20z\"/>\n",
              "  </svg>\n",
              "      </button>\n",
              "      \n",
              "  <style>\n",
              "    .colab-df-container {\n",
              "      display:flex;\n",
              "      flex-wrap:wrap;\n",
              "      gap: 12px;\n",
              "    }\n",
              "\n",
              "    .colab-df-convert {\n",
              "      background-color: #E8F0FE;\n",
              "      border: none;\n",
              "      border-radius: 50%;\n",
              "      cursor: pointer;\n",
              "      display: none;\n",
              "      fill: #1967D2;\n",
              "      height: 32px;\n",
              "      padding: 0 0 0 0;\n",
              "      width: 32px;\n",
              "    }\n",
              "\n",
              "    .colab-df-convert:hover {\n",
              "      background-color: #E2EBFA;\n",
              "      box-shadow: 0px 1px 2px rgba(60, 64, 67, 0.3), 0px 1px 3px 1px rgba(60, 64, 67, 0.15);\n",
              "      fill: #174EA6;\n",
              "    }\n",
              "\n",
              "    [theme=dark] .colab-df-convert {\n",
              "      background-color: #3B4455;\n",
              "      fill: #D2E3FC;\n",
              "    }\n",
              "\n",
              "    [theme=dark] .colab-df-convert:hover {\n",
              "      background-color: #434B5C;\n",
              "      box-shadow: 0px 1px 3px 1px rgba(0, 0, 0, 0.15);\n",
              "      filter: drop-shadow(0px 1px 2px rgba(0, 0, 0, 0.3));\n",
              "      fill: #FFFFFF;\n",
              "    }\n",
              "  </style>\n",
              "\n",
              "      <script>\n",
              "        const buttonEl =\n",
              "          document.querySelector('#df-e5d0ab25-a6b4-4fa8-bdd9-d8818ba5e163 button.colab-df-convert');\n",
              "        buttonEl.style.display =\n",
              "          google.colab.kernel.accessAllowed ? 'block' : 'none';\n",
              "\n",
              "        async function convertToInteractive(key) {\n",
              "          const element = document.querySelector('#df-e5d0ab25-a6b4-4fa8-bdd9-d8818ba5e163');\n",
              "          const dataTable =\n",
              "            await google.colab.kernel.invokeFunction('convertToInteractive',\n",
              "                                                     [key], {});\n",
              "          if (!dataTable) return;\n",
              "\n",
              "          const docLinkHtml = 'Like what you see? Visit the ' +\n",
              "            '<a target=\"_blank\" href=https://colab.research.google.com/notebooks/data_table.ipynb>data table notebook</a>'\n",
              "            + ' to learn more about interactive tables.';\n",
              "          element.innerHTML = '';\n",
              "          dataTable['output_type'] = 'display_data';\n",
              "          await google.colab.output.renderOutput(dataTable, element);\n",
              "          const docLink = document.createElement('div');\n",
              "          docLink.innerHTML = docLinkHtml;\n",
              "          element.appendChild(docLink);\n",
              "        }\n",
              "      </script>\n",
              "    </div>\n",
              "  </div>\n",
              "  "
            ]
          },
          "metadata": {},
          "execution_count": 25
        }
      ]
    },
    {
      "cell_type": "code",
      "source": [
        " # ▶ 석식메뉴가 없는 데이터도 존재 (*, 자기계발의날, *자기계발의날*, 가정의날)\n",
        "df[df['석식계']== 0]['석식메뉴'].value_counts()"
      ],
      "metadata": {
        "colab": {
          "base_uri": "https://localhost:8080/"
        },
        "id": "rIwwWbz4_JuC",
        "outputId": "a8a26430-df6d-407a-9103-3f35f41888d5"
      },
      "execution_count": null,
      "outputs": [
        {
          "output_type": "execute_result",
          "data": {
            "text/plain": [
              "*                                                       21\n",
              "                                                         4\n",
              "자기계발의날                                                   3\n",
              "자기개발의날                                                   3\n",
              "* 자기계발의날 *                                               2\n",
              "* 자기개발의날 *                                               2\n",
              "자기계발의날                                                   1\n",
              "*자기계발의날*                                                 1\n",
              "가정의날                                                     1\n",
              "쌀밥/잡곡밥 (쌀:국내산) 된장찌개 미니함박조림 계란말이 비름나물 포기김치 (김치:국내산)       1\n",
              "쌀밥/잡곡밥 (쌀:국내산) 쇠고기무국 고추잡채*꽃빵 계란찜 오이무침 포기김치 (김치:국내산)      1\n",
              "*                                                        1\n",
              "* 자기개발의날 *                                               1\n",
              "＜자기 계발의 날＞                                               1\n",
              "Name: 석식메뉴, dtype: int64"
            ]
          },
          "metadata": {},
          "execution_count": 26
        }
      ]
    },
    {
      "cell_type": "code",
      "source": [],
      "metadata": {
        "id": "cBZg8PnhC5d_"
      },
      "execution_count": null,
      "outputs": []
    },
    {
      "cell_type": "markdown",
      "source": [
        "## **🥇Session 3**  \n",
        "**┗ 식수 인원 예측**  \n",
        "---"
      ],
      "metadata": {
        "id": "TU0_9q54E5UR"
      }
    },
    {
      "cell_type": "code",
      "source": [
        " # ▶ 석식계 예측시 제외 필요\n",
        "len(df[df['석식계']==0])"
      ],
      "metadata": {
        "colab": {
          "base_uri": "https://localhost:8080/"
        },
        "id": "ggqQyEE8GN6D",
        "outputId": "6adc524f-9d28-4a64-841e-af6c237eca03"
      },
      "execution_count": null,
      "outputs": [
        {
          "output_type": "execute_result",
          "data": {
            "text/plain": [
              "43"
            ]
          },
          "metadata": {},
          "execution_count": 27
        }
      ]
    },
    {
      "cell_type": "markdown",
      "source": [
        "### · 모델링을 위한 데이터 준비\n",
        "---\n",
        "* 모델링을 수행하기 위해 Feature와 예측하고자하는 값인 Y로 데이터를 나눔\n",
        "* 학습과 예측을 위한 Train / Test set 분할"
      ],
      "metadata": {
        "id": "sGrTF6qwGYVt"
      }
    },
    {
      "cell_type": "code",
      "source": [
        "# ▶ numeric, categorical value 나누기\n",
        "numeric_list=[]\n",
        "categoical_list=[]\n",
        "\n",
        "for i in df.columns :\n",
        "  if df[i].dtypes == 'O' :\n",
        "    categoical_list.append(i)\n",
        "  else :\n",
        "    numeric_list.append(i)\n",
        "\n",
        "print(\"categoical_list :\", categoical_list)\n",
        "print(\"numeric_list :\", numeric_list)"
      ],
      "metadata": {
        "colab": {
          "base_uri": "https://localhost:8080/"
        },
        "id": "chJ6W_KKGpnE",
        "outputId": "418696c0-b499-4c47-cd9b-a7aedba515c8"
      },
      "execution_count": null,
      "outputs": [
        {
          "output_type": "stream",
          "name": "stdout",
          "text": [
            "categoical_list : ['요일', '조식메뉴', '중식메뉴', '석식메뉴', '조식메뉴_main', '중식메뉴_main', '석식메뉴_main']\n",
            "numeric_list : ['일자', '본사정원수', '본사휴가자수', '본사출장자수', '본사시간외근무명령서승인건수', '현본사소속재택근무자수', '중식계', '석식계', 'month']\n"
          ]
        }
      ]
    },
    {
      "cell_type": "code",
      "source": [
        "df[categoical_list ]"
      ],
      "metadata": {
        "colab": {
          "base_uri": "https://localhost:8080/",
          "height": 1000
        },
        "id": "313krgu9Us13",
        "outputId": "b2bfd29c-a345-46b2-e3a6-2852cf10660d"
      },
      "execution_count": null,
      "outputs": [
        {
          "output_type": "execute_result",
          "data": {
            "text/plain": [
              "     요일                                               조식메뉴  \\\n",
              "0     월  모닝롤/찐빵 우유/두유/주스 계란후라이 호두죽/쌀밥 (쌀:국내산) 된장찌개 쥐어채무...   \n",
              "1     화  모닝롤/단호박샌드 우유/두유/주스 계란후라이 팥죽/쌀밥 (쌀:국내산) 호박젓국찌개 ...   \n",
              "2     수  모닝롤/베이글 우유/두유/주스 계란후라이 표고버섯죽/쌀밥 (쌀:국내산) 콩나물국 느...   \n",
              "3     목  모닝롤/토마토샌드 우유/두유/주스 계란후라이 닭죽/쌀밥 (쌀,닭:국내산) 근대국 멸...   \n",
              "4     금  모닝롤/와플 우유/두유/주스 계란후라이 쇠고기죽/쌀밥 (쌀:국내산) 재첩국 방풍나물...   \n",
              "...  ..                                                ...   \n",
              "1200  수  모닝롤/페퍼로니피자 우유/주스 계란후라이/찐계란 크루통크림스프/흑미밥 아귀지리 마늘...   \n",
              "1201  목  모닝롤/생크림단팥빵 우유/주스 계란후라이/찐계란 누룽지탕/흑미밥 떡국 해물땡굴소스볶...   \n",
              "1202  금  모닝롤/BLT샌드위치 우유/주스 계란후라이/찐계란 흑임자죽/흑미밥 바지락살국 두부조...   \n",
              "1203  월  모닝롤/호박고구마오븐구이 우유/주스 계란후라이/찐계란 누룽지탕/흑미밥 감자양파국 분...   \n",
              "1204  화  모닝롤/야채샌드 우유/주스 계란후라이/찐계란 참치죽/흑미밥 홍합탕 애호박새우젓볶음 ...   \n",
              "\n",
              "                                                   중식메뉴  \\\n",
              "0     쌀밥/잡곡밥 (쌀,현미흑미:국내산) 오징어찌개 쇠불고기 (쇠고기:호주산) 계란찜 청...   \n",
              "1     쌀밥/잡곡밥 (쌀,현미흑미:국내산) 김치찌개 가자미튀김 모둠소세지구이 마늘쫑무침 요...   \n",
              "2     카레덮밥 (쌀,현미흑미:국내산) 팽이장국 치킨핑거 (닭고기:국내산) 쫄면야채무침 견...   \n",
              "3     쌀밥/잡곡밥 (쌀,현미흑미:국내산) 쇠고기무국 주꾸미볶음 부추전 시금치나물 요구르트...   \n",
              "4     쌀밥/잡곡밥 (쌀,현미흑미:국내산) 떡국 돈육씨앗강정 (돼지고기:국내산) 우엉잡채 ...   \n",
              "...                                                 ...   \n",
              "1200  쌀밥/흑미밥/찰현미밥 아욱국 수제함박스테이크 견과류마카로니범벅 생깻잎지 단호박물김치...   \n",
              "1201  쌀밥/수수밥/찰현미밥 냉이된장국 동파육 봄동전 청경채/버섯숙회*초장 무생채 양상추샐...   \n",
              "1202  전주비빔밥*약고추장 계란파국 요거닭 올방개묵무침 파프리카해초무침 포기김치 양상추샐러...   \n",
              "1203  쌀밥/흑미밥/찰현미밥 전주식콩나물해장국 돈육간장불고기 깐풍연근 연두부*달래양념장 봄...   \n",
              "1204  쌀밥/귀리밥/찰현미밥 들깨미역국 교촌간장치킨 옥수수콘치즈구이 가지고추장무침 포기김치...   \n",
              "\n",
              "                                                   석식메뉴      조식메뉴_main  \\\n",
              "0     쌀밥/잡곡밥 (쌀,현미흑미:국내산) 육개장 자반고등어구이 두부조림 건파래무침 포기김...         모닝롤/찐빵   \n",
              "1     콩나물밥*양념장 (쌀,현미흑미:국내산) 어묵국 유산슬 (쇠고기:호주산) 아삭고추무침...      모닝롤/단호박샌드   \n",
              "2     쌀밥/잡곡밥 (쌀,현미흑미:국내산) 청국장찌개 황태양념구이 (황태:러시아산) 고기전...        모닝롤/베이글   \n",
              "3     미니김밥*겨자장 (쌀,현미흑미:국내산) 우동 멕시칸샐러드 군고구마 무피클 포기김치 ...      모닝롤/토마토샌드   \n",
              "4     쌀밥/잡곡밥 (쌀,현미흑미:국내산) 차돌박이찌개 (쇠고기:호주산) 닭갈비 (닭고기:...         모닝롤/와플   \n",
              "...                                                 ...            ...   \n",
              "1200     김치볶음밥 미니쫄우동*맛살튀김 브로콜리깨소스무침 계란후라이 고들빼기무침 겉절이김치      모닝롤/페퍼로니피자   \n",
              "1201            흑미밥 쇠고기무국 삼치양념구이 비엔나채소볶음 숙주나물당근무침 포기김치      모닝롤/생크림단팥빵   \n",
              "1202        흑미밥 수제비국 수제맛쵸킹탕수육 유부채소겨자냉채 참나물무침 갓김치/겉절이김치     모닝롤/BLT샌드위치   \n",
              "1203            흑미밥 열무된장국 장어강정*데리야끼소스 깻잎쌈*생강채 오이선 포기김치   모닝롤/호박고구마오븐구이   \n",
              "1204         (New)할라피뇨멸치주먹밥 잔치국수 수제고기육전 쑥갓나물 양파초절임 깍두기        모닝롤/야채샌드   \n",
              "\n",
              "        중식메뉴_main       석식메뉴_main  \n",
              "0          쌀밥/잡곡밥          쌀밥/잡곡밥  \n",
              "1          쌀밥/잡곡밥        콩나물밥*양념장  \n",
              "2            카레덮밥          쌀밥/잡곡밥  \n",
              "3          쌀밥/잡곡밥        미니김밥*겨자장  \n",
              "4          쌀밥/잡곡밥          쌀밥/잡곡밥  \n",
              "...           ...             ...  \n",
              "1200  쌀밥/흑미밥/찰현미밥           김치볶음밥  \n",
              "1201  쌀밥/수수밥/찰현미밥             흑미밥  \n",
              "1202   전주비빔밥*약고추장             흑미밥  \n",
              "1203  쌀밥/흑미밥/찰현미밥             흑미밥  \n",
              "1204  쌀밥/귀리밥/찰현미밥  (New)할라피뇨멸치주먹밥  \n",
              "\n",
              "[1205 rows x 7 columns]"
            ],
            "text/html": [
              "\n",
              "  <div id=\"df-c9257d34-ced1-48cd-b383-f5201db9e2fc\">\n",
              "    <div class=\"colab-df-container\">\n",
              "      <div>\n",
              "<style scoped>\n",
              "    .dataframe tbody tr th:only-of-type {\n",
              "        vertical-align: middle;\n",
              "    }\n",
              "\n",
              "    .dataframe tbody tr th {\n",
              "        vertical-align: top;\n",
              "    }\n",
              "\n",
              "    .dataframe thead th {\n",
              "        text-align: right;\n",
              "    }\n",
              "</style>\n",
              "<table border=\"1\" class=\"dataframe\">\n",
              "  <thead>\n",
              "    <tr style=\"text-align: right;\">\n",
              "      <th></th>\n",
              "      <th>요일</th>\n",
              "      <th>조식메뉴</th>\n",
              "      <th>중식메뉴</th>\n",
              "      <th>석식메뉴</th>\n",
              "      <th>조식메뉴_main</th>\n",
              "      <th>중식메뉴_main</th>\n",
              "      <th>석식메뉴_main</th>\n",
              "    </tr>\n",
              "  </thead>\n",
              "  <tbody>\n",
              "    <tr>\n",
              "      <th>0</th>\n",
              "      <td>월</td>\n",
              "      <td>모닝롤/찐빵 우유/두유/주스 계란후라이 호두죽/쌀밥 (쌀:국내산) 된장찌개 쥐어채무...</td>\n",
              "      <td>쌀밥/잡곡밥 (쌀,현미흑미:국내산) 오징어찌개 쇠불고기 (쇠고기:호주산) 계란찜 청...</td>\n",
              "      <td>쌀밥/잡곡밥 (쌀,현미흑미:국내산) 육개장 자반고등어구이 두부조림 건파래무침 포기김...</td>\n",
              "      <td>모닝롤/찐빵</td>\n",
              "      <td>쌀밥/잡곡밥</td>\n",
              "      <td>쌀밥/잡곡밥</td>\n",
              "    </tr>\n",
              "    <tr>\n",
              "      <th>1</th>\n",
              "      <td>화</td>\n",
              "      <td>모닝롤/단호박샌드 우유/두유/주스 계란후라이 팥죽/쌀밥 (쌀:국내산) 호박젓국찌개 ...</td>\n",
              "      <td>쌀밥/잡곡밥 (쌀,현미흑미:국내산) 김치찌개 가자미튀김 모둠소세지구이 마늘쫑무침 요...</td>\n",
              "      <td>콩나물밥*양념장 (쌀,현미흑미:국내산) 어묵국 유산슬 (쇠고기:호주산) 아삭고추무침...</td>\n",
              "      <td>모닝롤/단호박샌드</td>\n",
              "      <td>쌀밥/잡곡밥</td>\n",
              "      <td>콩나물밥*양념장</td>\n",
              "    </tr>\n",
              "    <tr>\n",
              "      <th>2</th>\n",
              "      <td>수</td>\n",
              "      <td>모닝롤/베이글 우유/두유/주스 계란후라이 표고버섯죽/쌀밥 (쌀:국내산) 콩나물국 느...</td>\n",
              "      <td>카레덮밥 (쌀,현미흑미:국내산) 팽이장국 치킨핑거 (닭고기:국내산) 쫄면야채무침 견...</td>\n",
              "      <td>쌀밥/잡곡밥 (쌀,현미흑미:국내산) 청국장찌개 황태양념구이 (황태:러시아산) 고기전...</td>\n",
              "      <td>모닝롤/베이글</td>\n",
              "      <td>카레덮밥</td>\n",
              "      <td>쌀밥/잡곡밥</td>\n",
              "    </tr>\n",
              "    <tr>\n",
              "      <th>3</th>\n",
              "      <td>목</td>\n",
              "      <td>모닝롤/토마토샌드 우유/두유/주스 계란후라이 닭죽/쌀밥 (쌀,닭:국내산) 근대국 멸...</td>\n",
              "      <td>쌀밥/잡곡밥 (쌀,현미흑미:국내산) 쇠고기무국 주꾸미볶음 부추전 시금치나물 요구르트...</td>\n",
              "      <td>미니김밥*겨자장 (쌀,현미흑미:국내산) 우동 멕시칸샐러드 군고구마 무피클 포기김치 ...</td>\n",
              "      <td>모닝롤/토마토샌드</td>\n",
              "      <td>쌀밥/잡곡밥</td>\n",
              "      <td>미니김밥*겨자장</td>\n",
              "    </tr>\n",
              "    <tr>\n",
              "      <th>4</th>\n",
              "      <td>금</td>\n",
              "      <td>모닝롤/와플 우유/두유/주스 계란후라이 쇠고기죽/쌀밥 (쌀:국내산) 재첩국 방풍나물...</td>\n",
              "      <td>쌀밥/잡곡밥 (쌀,현미흑미:국내산) 떡국 돈육씨앗강정 (돼지고기:국내산) 우엉잡채 ...</td>\n",
              "      <td>쌀밥/잡곡밥 (쌀,현미흑미:국내산) 차돌박이찌개 (쇠고기:호주산) 닭갈비 (닭고기:...</td>\n",
              "      <td>모닝롤/와플</td>\n",
              "      <td>쌀밥/잡곡밥</td>\n",
              "      <td>쌀밥/잡곡밥</td>\n",
              "    </tr>\n",
              "    <tr>\n",
              "      <th>...</th>\n",
              "      <td>...</td>\n",
              "      <td>...</td>\n",
              "      <td>...</td>\n",
              "      <td>...</td>\n",
              "      <td>...</td>\n",
              "      <td>...</td>\n",
              "      <td>...</td>\n",
              "    </tr>\n",
              "    <tr>\n",
              "      <th>1200</th>\n",
              "      <td>수</td>\n",
              "      <td>모닝롤/페퍼로니피자 우유/주스 계란후라이/찐계란 크루통크림스프/흑미밥 아귀지리 마늘...</td>\n",
              "      <td>쌀밥/흑미밥/찰현미밥 아욱국 수제함박스테이크 견과류마카로니범벅 생깻잎지 단호박물김치...</td>\n",
              "      <td>김치볶음밥 미니쫄우동*맛살튀김 브로콜리깨소스무침 계란후라이 고들빼기무침 겉절이김치</td>\n",
              "      <td>모닝롤/페퍼로니피자</td>\n",
              "      <td>쌀밥/흑미밥/찰현미밥</td>\n",
              "      <td>김치볶음밥</td>\n",
              "    </tr>\n",
              "    <tr>\n",
              "      <th>1201</th>\n",
              "      <td>목</td>\n",
              "      <td>모닝롤/생크림단팥빵 우유/주스 계란후라이/찐계란 누룽지탕/흑미밥 떡국 해물땡굴소스볶...</td>\n",
              "      <td>쌀밥/수수밥/찰현미밥 냉이된장국 동파육 봄동전 청경채/버섯숙회*초장 무생채 양상추샐...</td>\n",
              "      <td>흑미밥 쇠고기무국 삼치양념구이 비엔나채소볶음 숙주나물당근무침 포기김치</td>\n",
              "      <td>모닝롤/생크림단팥빵</td>\n",
              "      <td>쌀밥/수수밥/찰현미밥</td>\n",
              "      <td>흑미밥</td>\n",
              "    </tr>\n",
              "    <tr>\n",
              "      <th>1202</th>\n",
              "      <td>금</td>\n",
              "      <td>모닝롤/BLT샌드위치 우유/주스 계란후라이/찐계란 흑임자죽/흑미밥 바지락살국 두부조...</td>\n",
              "      <td>전주비빔밥*약고추장 계란파국 요거닭 올방개묵무침 파프리카해초무침 포기김치 양상추샐러...</td>\n",
              "      <td>흑미밥 수제비국 수제맛쵸킹탕수육 유부채소겨자냉채 참나물무침 갓김치/겉절이김치</td>\n",
              "      <td>모닝롤/BLT샌드위치</td>\n",
              "      <td>전주비빔밥*약고추장</td>\n",
              "      <td>흑미밥</td>\n",
              "    </tr>\n",
              "    <tr>\n",
              "      <th>1203</th>\n",
              "      <td>월</td>\n",
              "      <td>모닝롤/호박고구마오븐구이 우유/주스 계란후라이/찐계란 누룽지탕/흑미밥 감자양파국 분...</td>\n",
              "      <td>쌀밥/흑미밥/찰현미밥 전주식콩나물해장국 돈육간장불고기 깐풍연근 연두부*달래양념장 봄...</td>\n",
              "      <td>흑미밥 열무된장국 장어강정*데리야끼소스 깻잎쌈*생강채 오이선 포기김치</td>\n",
              "      <td>모닝롤/호박고구마오븐구이</td>\n",
              "      <td>쌀밥/흑미밥/찰현미밥</td>\n",
              "      <td>흑미밥</td>\n",
              "    </tr>\n",
              "    <tr>\n",
              "      <th>1204</th>\n",
              "      <td>화</td>\n",
              "      <td>모닝롤/야채샌드 우유/주스 계란후라이/찐계란 참치죽/흑미밥 홍합탕 애호박새우젓볶음 ...</td>\n",
              "      <td>쌀밥/귀리밥/찰현미밥 들깨미역국 교촌간장치킨 옥수수콘치즈구이 가지고추장무침 포기김치...</td>\n",
              "      <td>(New)할라피뇨멸치주먹밥 잔치국수 수제고기육전 쑥갓나물 양파초절임 깍두기</td>\n",
              "      <td>모닝롤/야채샌드</td>\n",
              "      <td>쌀밥/귀리밥/찰현미밥</td>\n",
              "      <td>(New)할라피뇨멸치주먹밥</td>\n",
              "    </tr>\n",
              "  </tbody>\n",
              "</table>\n",
              "<p>1205 rows × 7 columns</p>\n",
              "</div>\n",
              "      <button class=\"colab-df-convert\" onclick=\"convertToInteractive('df-c9257d34-ced1-48cd-b383-f5201db9e2fc')\"\n",
              "              title=\"Convert this dataframe to an interactive table.\"\n",
              "              style=\"display:none;\">\n",
              "        \n",
              "  <svg xmlns=\"http://www.w3.org/2000/svg\" height=\"24px\"viewBox=\"0 0 24 24\"\n",
              "       width=\"24px\">\n",
              "    <path d=\"M0 0h24v24H0V0z\" fill=\"none\"/>\n",
              "    <path d=\"M18.56 5.44l.94 2.06.94-2.06 2.06-.94-2.06-.94-.94-2.06-.94 2.06-2.06.94zm-11 1L8.5 8.5l.94-2.06 2.06-.94-2.06-.94L8.5 2.5l-.94 2.06-2.06.94zm10 10l.94 2.06.94-2.06 2.06-.94-2.06-.94-.94-2.06-.94 2.06-2.06.94z\"/><path d=\"M17.41 7.96l-1.37-1.37c-.4-.4-.92-.59-1.43-.59-.52 0-1.04.2-1.43.59L10.3 9.45l-7.72 7.72c-.78.78-.78 2.05 0 2.83L4 21.41c.39.39.9.59 1.41.59.51 0 1.02-.2 1.41-.59l7.78-7.78 2.81-2.81c.8-.78.8-2.07 0-2.86zM5.41 20L4 18.59l7.72-7.72 1.47 1.35L5.41 20z\"/>\n",
              "  </svg>\n",
              "      </button>\n",
              "      \n",
              "  <style>\n",
              "    .colab-df-container {\n",
              "      display:flex;\n",
              "      flex-wrap:wrap;\n",
              "      gap: 12px;\n",
              "    }\n",
              "\n",
              "    .colab-df-convert {\n",
              "      background-color: #E8F0FE;\n",
              "      border: none;\n",
              "      border-radius: 50%;\n",
              "      cursor: pointer;\n",
              "      display: none;\n",
              "      fill: #1967D2;\n",
              "      height: 32px;\n",
              "      padding: 0 0 0 0;\n",
              "      width: 32px;\n",
              "    }\n",
              "\n",
              "    .colab-df-convert:hover {\n",
              "      background-color: #E2EBFA;\n",
              "      box-shadow: 0px 1px 2px rgba(60, 64, 67, 0.3), 0px 1px 3px 1px rgba(60, 64, 67, 0.15);\n",
              "      fill: #174EA6;\n",
              "    }\n",
              "\n",
              "    [theme=dark] .colab-df-convert {\n",
              "      background-color: #3B4455;\n",
              "      fill: #D2E3FC;\n",
              "    }\n",
              "\n",
              "    [theme=dark] .colab-df-convert:hover {\n",
              "      background-color: #434B5C;\n",
              "      box-shadow: 0px 1px 3px 1px rgba(0, 0, 0, 0.15);\n",
              "      filter: drop-shadow(0px 1px 2px rgba(0, 0, 0, 0.3));\n",
              "      fill: #FFFFFF;\n",
              "    }\n",
              "  </style>\n",
              "\n",
              "      <script>\n",
              "        const buttonEl =\n",
              "          document.querySelector('#df-c9257d34-ced1-48cd-b383-f5201db9e2fc button.colab-df-convert');\n",
              "        buttonEl.style.display =\n",
              "          google.colab.kernel.accessAllowed ? 'block' : 'none';\n",
              "\n",
              "        async function convertToInteractive(key) {\n",
              "          const element = document.querySelector('#df-c9257d34-ced1-48cd-b383-f5201db9e2fc');\n",
              "          const dataTable =\n",
              "            await google.colab.kernel.invokeFunction('convertToInteractive',\n",
              "                                                     [key], {});\n",
              "          if (!dataTable) return;\n",
              "\n",
              "          const docLinkHtml = 'Like what you see? Visit the ' +\n",
              "            '<a target=\"_blank\" href=https://colab.research.google.com/notebooks/data_table.ipynb>data table notebook</a>'\n",
              "            + ' to learn more about interactive tables.';\n",
              "          element.innerHTML = '';\n",
              "          dataTable['output_type'] = 'display_data';\n",
              "          await google.colab.output.renderOutput(dataTable, element);\n",
              "          const docLink = document.createElement('div');\n",
              "          docLink.innerHTML = docLinkHtml;\n",
              "          element.appendChild(docLink);\n",
              "        }\n",
              "      </script>\n",
              "    </div>\n",
              "  </div>\n",
              "  "
            ]
          },
          "metadata": {},
          "execution_count": 30
        }
      ]
    },
    {
      "cell_type": "code",
      "source": [
        "df.columns"
      ],
      "metadata": {
        "colab": {
          "base_uri": "https://localhost:8080/"
        },
        "id": "Hw-MTYi2qxC0",
        "outputId": "e44802ba-d69a-4597-f480-5081baf15ef6"
      },
      "execution_count": null,
      "outputs": [
        {
          "output_type": "execute_result",
          "data": {
            "text/plain": [
              "Index(['일자', '요일', '본사정원수', '본사휴가자수', '본사출장자수', '본사시간외근무명령서승인건수',\n",
              "       '현본사소속재택근무자수', '조식메뉴', '중식메뉴', '석식메뉴', '중식계', '석식계', 'month',\n",
              "       '조식메뉴_main', '중식메뉴_main', '석식메뉴_main'],\n",
              "      dtype='object')"
            ]
          },
          "metadata": {},
          "execution_count": 44
        }
      ]
    },
    {
      "cell_type": "code",
      "source": [
        "# ▶ 중식계 예측\n",
        "from sklearn.model_selection import train_test_split\n",
        "from sklearn.ensemble import RandomForestRegressor\n",
        "from sklearn import metrics\n",
        "\n",
        "#석식 메뉴는 아직 전처리를 안 해서 빼고 진행행\n",
        "X=df.drop(['일자', '조식메뉴', '중식메뉴', '석식메뉴', '중식계', '석식계', '석식메뉴_main'], axis=1)\n",
        "Y=df['중식계']\n",
        "\n",
        "x_train, x_test, y_train, y_test = train_test_split(X, Y, test_size=0.3)\n",
        "\n",
        "print(x_train.shape)\n",
        "print(y_train.shape)\n",
        "\n",
        "print(x_test.shape)\n",
        "print(y_test.shape)"
      ],
      "metadata": {
        "colab": {
          "base_uri": "https://localhost:8080/"
        },
        "id": "Hq7nvMBhGyG1",
        "outputId": "b627ce56-5b03-483c-ca31-d5c1f519bb29"
      },
      "execution_count": null,
      "outputs": [
        {
          "output_type": "stream",
          "name": "stdout",
          "text": [
            "(843, 9)\n",
            "(843,)\n",
            "(362, 9)\n",
            "(362,)\n"
          ]
        }
      ]
    },
    {
      "cell_type": "code",
      "source": [
        "print(categoical_list)"
      ],
      "metadata": {
        "colab": {
          "base_uri": "https://localhost:8080/"
        },
        "id": "fT3rCwJNVRo_",
        "outputId": "b0a8a498-c4d1-4861-a48f-a748bf8f94f8"
      },
      "execution_count": null,
      "outputs": [
        {
          "output_type": "stream",
          "name": "stdout",
          "text": [
            "['요일', '조식메뉴', '중식메뉴', '석식메뉴', '조식메뉴_main', '중식메뉴_main', '석식메뉴_main']\n"
          ]
        }
      ]
    },
    {
      "cell_type": "code",
      "source": [
        "# ▶ 형변환이 필요하지 않는 데이터는 범주형 데이터 리스트에서 사전 제거\n",
        " #RandomForestRegressor 때 제거 했던 데이터들 제거\n",
        "categoical_list.remove('조식메뉴')\n",
        "categoical_list.remove('중식메뉴')\n",
        "categoical_list.remove('석식메뉴')\n",
        "categoical_list.remove('석식메뉴_main')\n",
        "print(categoical_list)"
      ],
      "metadata": {
        "colab": {
          "base_uri": "https://localhost:8080/"
        },
        "id": "OLLG1kLoVU0-",
        "outputId": "62ed49fe-db4d-4ecf-9b5f-1fa1360c536d"
      },
      "execution_count": null,
      "outputs": [
        {
          "output_type": "stream",
          "name": "stdout",
          "text": [
            "['요일', '조식메뉴_main', '중식메뉴_main']\n"
          ]
        }
      ]
    },
    {
      "cell_type": "code",
      "source": [
        "\n",
        "x_train.head(3)"
      ],
      "metadata": {
        "colab": {
          "base_uri": "https://localhost:8080/",
          "height": 143
        },
        "id": "FTwDw3xDVe2F",
        "outputId": "951be1e6-87cb-407d-b277-af21d4ad9857"
      },
      "execution_count": null,
      "outputs": [
        {
          "output_type": "execute_result",
          "data": {
            "text/plain": [
              "     요일  본사정원수  본사휴가자수  본사출장자수  본사시간외근무명령서승인건수  현본사소속재택근무자수  month  \\\n",
              "926   화   3104     139     285             562          0.0     11   \n",
              "198   화   2689      45     238             452          0.0     11   \n",
              "1137  목   3008      97     269             898        175.0     10   \n",
              "\n",
              "       조식메뉴_main    중식메뉴_main  \n",
              "926    모닝롤/옥수수샌드       쌀밥/잡곡밥  \n",
              "198     모닝롤/참치샌드       쌀밥/잡곡밥  \n",
              "1137  모닝롤/프렌치토스트  쌀밥/흑미밥/찰현미밥  "
            ],
            "text/html": [
              "\n",
              "  <div id=\"df-8fb19232-93e9-4335-b094-e35aa82ef063\">\n",
              "    <div class=\"colab-df-container\">\n",
              "      <div>\n",
              "<style scoped>\n",
              "    .dataframe tbody tr th:only-of-type {\n",
              "        vertical-align: middle;\n",
              "    }\n",
              "\n",
              "    .dataframe tbody tr th {\n",
              "        vertical-align: top;\n",
              "    }\n",
              "\n",
              "    .dataframe thead th {\n",
              "        text-align: right;\n",
              "    }\n",
              "</style>\n",
              "<table border=\"1\" class=\"dataframe\">\n",
              "  <thead>\n",
              "    <tr style=\"text-align: right;\">\n",
              "      <th></th>\n",
              "      <th>요일</th>\n",
              "      <th>본사정원수</th>\n",
              "      <th>본사휴가자수</th>\n",
              "      <th>본사출장자수</th>\n",
              "      <th>본사시간외근무명령서승인건수</th>\n",
              "      <th>현본사소속재택근무자수</th>\n",
              "      <th>month</th>\n",
              "      <th>조식메뉴_main</th>\n",
              "      <th>중식메뉴_main</th>\n",
              "    </tr>\n",
              "  </thead>\n",
              "  <tbody>\n",
              "    <tr>\n",
              "      <th>926</th>\n",
              "      <td>화</td>\n",
              "      <td>3104</td>\n",
              "      <td>139</td>\n",
              "      <td>285</td>\n",
              "      <td>562</td>\n",
              "      <td>0.0</td>\n",
              "      <td>11</td>\n",
              "      <td>모닝롤/옥수수샌드</td>\n",
              "      <td>쌀밥/잡곡밥</td>\n",
              "    </tr>\n",
              "    <tr>\n",
              "      <th>198</th>\n",
              "      <td>화</td>\n",
              "      <td>2689</td>\n",
              "      <td>45</td>\n",
              "      <td>238</td>\n",
              "      <td>452</td>\n",
              "      <td>0.0</td>\n",
              "      <td>11</td>\n",
              "      <td>모닝롤/참치샌드</td>\n",
              "      <td>쌀밥/잡곡밥</td>\n",
              "    </tr>\n",
              "    <tr>\n",
              "      <th>1137</th>\n",
              "      <td>목</td>\n",
              "      <td>3008</td>\n",
              "      <td>97</td>\n",
              "      <td>269</td>\n",
              "      <td>898</td>\n",
              "      <td>175.0</td>\n",
              "      <td>10</td>\n",
              "      <td>모닝롤/프렌치토스트</td>\n",
              "      <td>쌀밥/흑미밥/찰현미밥</td>\n",
              "    </tr>\n",
              "  </tbody>\n",
              "</table>\n",
              "</div>\n",
              "      <button class=\"colab-df-convert\" onclick=\"convertToInteractive('df-8fb19232-93e9-4335-b094-e35aa82ef063')\"\n",
              "              title=\"Convert this dataframe to an interactive table.\"\n",
              "              style=\"display:none;\">\n",
              "        \n",
              "  <svg xmlns=\"http://www.w3.org/2000/svg\" height=\"24px\"viewBox=\"0 0 24 24\"\n",
              "       width=\"24px\">\n",
              "    <path d=\"M0 0h24v24H0V0z\" fill=\"none\"/>\n",
              "    <path d=\"M18.56 5.44l.94 2.06.94-2.06 2.06-.94-2.06-.94-.94-2.06-.94 2.06-2.06.94zm-11 1L8.5 8.5l.94-2.06 2.06-.94-2.06-.94L8.5 2.5l-.94 2.06-2.06.94zm10 10l.94 2.06.94-2.06 2.06-.94-2.06-.94-.94-2.06-.94 2.06-2.06.94z\"/><path d=\"M17.41 7.96l-1.37-1.37c-.4-.4-.92-.59-1.43-.59-.52 0-1.04.2-1.43.59L10.3 9.45l-7.72 7.72c-.78.78-.78 2.05 0 2.83L4 21.41c.39.39.9.59 1.41.59.51 0 1.02-.2 1.41-.59l7.78-7.78 2.81-2.81c.8-.78.8-2.07 0-2.86zM5.41 20L4 18.59l7.72-7.72 1.47 1.35L5.41 20z\"/>\n",
              "  </svg>\n",
              "      </button>\n",
              "      \n",
              "  <style>\n",
              "    .colab-df-container {\n",
              "      display:flex;\n",
              "      flex-wrap:wrap;\n",
              "      gap: 12px;\n",
              "    }\n",
              "\n",
              "    .colab-df-convert {\n",
              "      background-color: #E8F0FE;\n",
              "      border: none;\n",
              "      border-radius: 50%;\n",
              "      cursor: pointer;\n",
              "      display: none;\n",
              "      fill: #1967D2;\n",
              "      height: 32px;\n",
              "      padding: 0 0 0 0;\n",
              "      width: 32px;\n",
              "    }\n",
              "\n",
              "    .colab-df-convert:hover {\n",
              "      background-color: #E2EBFA;\n",
              "      box-shadow: 0px 1px 2px rgba(60, 64, 67, 0.3), 0px 1px 3px 1px rgba(60, 64, 67, 0.15);\n",
              "      fill: #174EA6;\n",
              "    }\n",
              "\n",
              "    [theme=dark] .colab-df-convert {\n",
              "      background-color: #3B4455;\n",
              "      fill: #D2E3FC;\n",
              "    }\n",
              "\n",
              "    [theme=dark] .colab-df-convert:hover {\n",
              "      background-color: #434B5C;\n",
              "      box-shadow: 0px 1px 3px 1px rgba(0, 0, 0, 0.15);\n",
              "      filter: drop-shadow(0px 1px 2px rgba(0, 0, 0, 0.3));\n",
              "      fill: #FFFFFF;\n",
              "    }\n",
              "  </style>\n",
              "\n",
              "      <script>\n",
              "        const buttonEl =\n",
              "          document.querySelector('#df-8fb19232-93e9-4335-b094-e35aa82ef063 button.colab-df-convert');\n",
              "        buttonEl.style.display =\n",
              "          google.colab.kernel.accessAllowed ? 'block' : 'none';\n",
              "\n",
              "        async function convertToInteractive(key) {\n",
              "          const element = document.querySelector('#df-8fb19232-93e9-4335-b094-e35aa82ef063');\n",
              "          const dataTable =\n",
              "            await google.colab.kernel.invokeFunction('convertToInteractive',\n",
              "                                                     [key], {});\n",
              "          if (!dataTable) return;\n",
              "\n",
              "          const docLinkHtml = 'Like what you see? Visit the ' +\n",
              "            '<a target=\"_blank\" href=https://colab.research.google.com/notebooks/data_table.ipynb>data table notebook</a>'\n",
              "            + ' to learn more about interactive tables.';\n",
              "          element.innerHTML = '';\n",
              "          dataTable['output_type'] = 'display_data';\n",
              "          await google.colab.output.renderOutput(dataTable, element);\n",
              "          const docLink = document.createElement('div');\n",
              "          docLink.innerHTML = docLinkHtml;\n",
              "          element.appendChild(docLink);\n",
              "        }\n",
              "      </script>\n",
              "    </div>\n",
              "  </div>\n",
              "  "
            ]
          },
          "metadata": {},
          "execution_count": 48
        }
      ]
    },
    {
      "cell_type": "code",
      "source": [
        "from sklearn.preprocessing import LabelEncoder\n",
        "\n",
        "for col in categoical_list:\n",
        "    print(col)\n",
        "    le = LabelEncoder()\n",
        "    le.fit(list(x_train[col].values) + list(x_test[col].values))\n",
        "    x_train[col] = le.transform(x_train[col])\n",
        "    x_test[col] = le.transform(x_test[col])"
      ],
      "metadata": {
        "colab": {
          "base_uri": "https://localhost:8080/"
        },
        "id": "MBr1MS_QVJxT",
        "outputId": "e6452aca-861c-41e4-ef19-4bc0c59b7a19"
      },
      "execution_count": null,
      "outputs": [
        {
          "output_type": "stream",
          "name": "stdout",
          "text": [
            "요일\n",
            "조식메뉴_main\n",
            "중식메뉴_main\n"
          ]
        }
      ]
    },
    {
      "cell_type": "code",
      "source": [
        "x_test[categoical_list].head(5)"
      ],
      "metadata": {
        "colab": {
          "base_uri": "https://localhost:8080/",
          "height": 206
        },
        "id": "uwBLdvNRm8jK",
        "outputId": "cbaa0c14-842d-4565-c17a-b08ad8ddee4d"
      },
      "execution_count": null,
      "outputs": [
        {
          "output_type": "execute_result",
          "data": {
            "text/plain": [
              "     요일  조식메뉴_main  중식메뉴_main\n",
              "334   3         55         51\n",
              "771   2        109          8\n",
              "555   0        123         51\n",
              "132   4         16         51\n",
              "959   4         79         51"
            ],
            "text/html": [
              "\n",
              "  <div id=\"df-3f638b79-6730-4b04-b6a3-838f65b665ee\">\n",
              "    <div class=\"colab-df-container\">\n",
              "      <div>\n",
              "<style scoped>\n",
              "    .dataframe tbody tr th:only-of-type {\n",
              "        vertical-align: middle;\n",
              "    }\n",
              "\n",
              "    .dataframe tbody tr th {\n",
              "        vertical-align: top;\n",
              "    }\n",
              "\n",
              "    .dataframe thead th {\n",
              "        text-align: right;\n",
              "    }\n",
              "</style>\n",
              "<table border=\"1\" class=\"dataframe\">\n",
              "  <thead>\n",
              "    <tr style=\"text-align: right;\">\n",
              "      <th></th>\n",
              "      <th>요일</th>\n",
              "      <th>조식메뉴_main</th>\n",
              "      <th>중식메뉴_main</th>\n",
              "    </tr>\n",
              "  </thead>\n",
              "  <tbody>\n",
              "    <tr>\n",
              "      <th>334</th>\n",
              "      <td>3</td>\n",
              "      <td>55</td>\n",
              "      <td>51</td>\n",
              "    </tr>\n",
              "    <tr>\n",
              "      <th>771</th>\n",
              "      <td>2</td>\n",
              "      <td>109</td>\n",
              "      <td>8</td>\n",
              "    </tr>\n",
              "    <tr>\n",
              "      <th>555</th>\n",
              "      <td>0</td>\n",
              "      <td>123</td>\n",
              "      <td>51</td>\n",
              "    </tr>\n",
              "    <tr>\n",
              "      <th>132</th>\n",
              "      <td>4</td>\n",
              "      <td>16</td>\n",
              "      <td>51</td>\n",
              "    </tr>\n",
              "    <tr>\n",
              "      <th>959</th>\n",
              "      <td>4</td>\n",
              "      <td>79</td>\n",
              "      <td>51</td>\n",
              "    </tr>\n",
              "  </tbody>\n",
              "</table>\n",
              "</div>\n",
              "      <button class=\"colab-df-convert\" onclick=\"convertToInteractive('df-3f638b79-6730-4b04-b6a3-838f65b665ee')\"\n",
              "              title=\"Convert this dataframe to an interactive table.\"\n",
              "              style=\"display:none;\">\n",
              "        \n",
              "  <svg xmlns=\"http://www.w3.org/2000/svg\" height=\"24px\"viewBox=\"0 0 24 24\"\n",
              "       width=\"24px\">\n",
              "    <path d=\"M0 0h24v24H0V0z\" fill=\"none\"/>\n",
              "    <path d=\"M18.56 5.44l.94 2.06.94-2.06 2.06-.94-2.06-.94-.94-2.06-.94 2.06-2.06.94zm-11 1L8.5 8.5l.94-2.06 2.06-.94-2.06-.94L8.5 2.5l-.94 2.06-2.06.94zm10 10l.94 2.06.94-2.06 2.06-.94-2.06-.94-.94-2.06-.94 2.06-2.06.94z\"/><path d=\"M17.41 7.96l-1.37-1.37c-.4-.4-.92-.59-1.43-.59-.52 0-1.04.2-1.43.59L10.3 9.45l-7.72 7.72c-.78.78-.78 2.05 0 2.83L4 21.41c.39.39.9.59 1.41.59.51 0 1.02-.2 1.41-.59l7.78-7.78 2.81-2.81c.8-.78.8-2.07 0-2.86zM5.41 20L4 18.59l7.72-7.72 1.47 1.35L5.41 20z\"/>\n",
              "  </svg>\n",
              "      </button>\n",
              "      \n",
              "  <style>\n",
              "    .colab-df-container {\n",
              "      display:flex;\n",
              "      flex-wrap:wrap;\n",
              "      gap: 12px;\n",
              "    }\n",
              "\n",
              "    .colab-df-convert {\n",
              "      background-color: #E8F0FE;\n",
              "      border: none;\n",
              "      border-radius: 50%;\n",
              "      cursor: pointer;\n",
              "      display: none;\n",
              "      fill: #1967D2;\n",
              "      height: 32px;\n",
              "      padding: 0 0 0 0;\n",
              "      width: 32px;\n",
              "    }\n",
              "\n",
              "    .colab-df-convert:hover {\n",
              "      background-color: #E2EBFA;\n",
              "      box-shadow: 0px 1px 2px rgba(60, 64, 67, 0.3), 0px 1px 3px 1px rgba(60, 64, 67, 0.15);\n",
              "      fill: #174EA6;\n",
              "    }\n",
              "\n",
              "    [theme=dark] .colab-df-convert {\n",
              "      background-color: #3B4455;\n",
              "      fill: #D2E3FC;\n",
              "    }\n",
              "\n",
              "    [theme=dark] .colab-df-convert:hover {\n",
              "      background-color: #434B5C;\n",
              "      box-shadow: 0px 1px 3px 1px rgba(0, 0, 0, 0.15);\n",
              "      filter: drop-shadow(0px 1px 2px rgba(0, 0, 0, 0.3));\n",
              "      fill: #FFFFFF;\n",
              "    }\n",
              "  </style>\n",
              "\n",
              "      <script>\n",
              "        const buttonEl =\n",
              "          document.querySelector('#df-3f638b79-6730-4b04-b6a3-838f65b665ee button.colab-df-convert');\n",
              "        buttonEl.style.display =\n",
              "          google.colab.kernel.accessAllowed ? 'block' : 'none';\n",
              "\n",
              "        async function convertToInteractive(key) {\n",
              "          const element = document.querySelector('#df-3f638b79-6730-4b04-b6a3-838f65b665ee');\n",
              "          const dataTable =\n",
              "            await google.colab.kernel.invokeFunction('convertToInteractive',\n",
              "                                                     [key], {});\n",
              "          if (!dataTable) return;\n",
              "\n",
              "          const docLinkHtml = 'Like what you see? Visit the ' +\n",
              "            '<a target=\"_blank\" href=https://colab.research.google.com/notebooks/data_table.ipynb>data table notebook</a>'\n",
              "            + ' to learn more about interactive tables.';\n",
              "          element.innerHTML = '';\n",
              "          dataTable['output_type'] = 'display_data';\n",
              "          await google.colab.output.renderOutput(dataTable, element);\n",
              "          const docLink = document.createElement('div');\n",
              "          docLink.innerHTML = docLinkHtml;\n",
              "          element.appendChild(docLink);\n",
              "        }\n",
              "      </script>\n",
              "    </div>\n",
              "  </div>\n",
              "  "
            ]
          },
          "metadata": {},
          "execution_count": 34
        }
      ]
    },
    {
      "cell_type": "markdown",
      "source": [
        "### · 모델 학습 및 평가\n",
        "---\n",
        "* 모델을 학습하고 예측을 수행하여 성능을 평가"
      ],
      "metadata": {
        "id": "IWvChx7OYcx4"
      }
    },
    {
      "cell_type": "code",
      "source": [
        "# ▶ 학습\n",
        " #보통 n_estimators는 400~500 으로 시작\n",
        "  #n_estimators와 max_depth를 조절하며 과적합 방지지\n",
        "rfr = RandomForestRegressor(n_estimators=150, max_depth=4);\n",
        "rfr.fit(x_train, y_train);"
      ],
      "metadata": {
        "id": "Wr3edKv-VmTL"
      },
      "execution_count": null,
      "outputs": []
    },
    {
      "cell_type": "code",
      "source": [
        "# ▶ 예측\n",
        "# ▶ 예측은 학습에 사용된 Data와 Test Data 모두 예측하고 평가함(※ 과적합 여부 판별)\n",
        "import numpy as np\n",
        "from sklearn.metrics import mean_absolute_error, r2_score\n",
        "y_pred_train = rfr.predict(x_train)\n",
        "y_pred_test = rfr.predict(x_test)\n",
        "\n",
        "\n",
        "mae_train = mean_absolute_error(y_train, y_pred_train)\n",
        "print('mae_train(mae): ', mae_train)\n",
        "r2_train = r2_score(y_train, y_pred_train)\n",
        "print('r2_score(r2): ', r2_train)\n",
        "print('')\n",
        "mae_test = mean_absolute_error(y_test, y_pred_test)\n",
        "print('mae_test(mae): ', mae_test)\n",
        "r2_test = r2_score(y_test, y_pred_test)\n",
        "print('r2_score(r2): ', r2_test)"
      ],
      "metadata": {
        "colab": {
          "base_uri": "https://localhost:8080/"
        },
        "id": "dMVzX7uOVrQD",
        "outputId": "12422474-e72d-48a2-cb0e-87fd2fd04e8d"
      },
      "execution_count": null,
      "outputs": [
        {
          "output_type": "stream",
          "name": "stdout",
          "text": [
            "mae_train(mae):  72.54875353039168\n",
            "r2_score(r2):  0.7926535850753847\n",
            "\n",
            "mae_test(mae):  81.68798768654105\n",
            "r2_score(r2):  0.7493011689831359\n"
          ]
        }
      ]
    },
    {
      "cell_type": "code",
      "source": [
        "# ▶ 예측값과 실제값 비교\n",
        "result = pd.DataFrame({'Real Values':y_test, 'Predicted Values':y_pred_test})\n",
        "result['diff'] = result['Real Values'] - result['Predicted Values']\n",
        "result.sort_values(by=['diff'], ascending = False)\n",
        "\n",
        "#최대 400명까지 차이나는 것으로 보아 가끔 손실이 크게 날 수 있을 것 같긴 함"
      ],
      "metadata": {
        "colab": {
          "base_uri": "https://localhost:8080/",
          "height": 423
        },
        "id": "70nogZiNVsPL",
        "outputId": "444bc5b8-3acf-4561-f951-83ebd53cddfc"
      },
      "execution_count": null,
      "outputs": [
        {
          "output_type": "execute_result",
          "data": {
            "text/plain": [
              "      Real Values  Predicted Values        diff\n",
              "165        1196.0        840.739132  355.260868\n",
              "653        1211.0        883.405461  327.594539\n",
              "1039       1254.0        959.108311  294.891689\n",
              "312        1235.0        956.229849  278.770151\n",
              "840         856.0        578.210735  277.789265\n",
              "...           ...               ...         ...\n",
              "645         405.0        689.895108 -284.895108\n",
              "470         394.0        696.614638 -302.614638\n",
              "978         660.0        970.348928 -310.348928\n",
              "469         311.0        733.151225 -422.151225\n",
              "951         462.0        890.078044 -428.078044\n",
              "\n",
              "[362 rows x 3 columns]"
            ],
            "text/html": [
              "\n",
              "  <div id=\"df-6351a4f1-e897-4577-a409-55edf1392ac3\">\n",
              "    <div class=\"colab-df-container\">\n",
              "      <div>\n",
              "<style scoped>\n",
              "    .dataframe tbody tr th:only-of-type {\n",
              "        vertical-align: middle;\n",
              "    }\n",
              "\n",
              "    .dataframe tbody tr th {\n",
              "        vertical-align: top;\n",
              "    }\n",
              "\n",
              "    .dataframe thead th {\n",
              "        text-align: right;\n",
              "    }\n",
              "</style>\n",
              "<table border=\"1\" class=\"dataframe\">\n",
              "  <thead>\n",
              "    <tr style=\"text-align: right;\">\n",
              "      <th></th>\n",
              "      <th>Real Values</th>\n",
              "      <th>Predicted Values</th>\n",
              "      <th>diff</th>\n",
              "    </tr>\n",
              "  </thead>\n",
              "  <tbody>\n",
              "    <tr>\n",
              "      <th>165</th>\n",
              "      <td>1196.0</td>\n",
              "      <td>840.739132</td>\n",
              "      <td>355.260868</td>\n",
              "    </tr>\n",
              "    <tr>\n",
              "      <th>653</th>\n",
              "      <td>1211.0</td>\n",
              "      <td>883.405461</td>\n",
              "      <td>327.594539</td>\n",
              "    </tr>\n",
              "    <tr>\n",
              "      <th>1039</th>\n",
              "      <td>1254.0</td>\n",
              "      <td>959.108311</td>\n",
              "      <td>294.891689</td>\n",
              "    </tr>\n",
              "    <tr>\n",
              "      <th>312</th>\n",
              "      <td>1235.0</td>\n",
              "      <td>956.229849</td>\n",
              "      <td>278.770151</td>\n",
              "    </tr>\n",
              "    <tr>\n",
              "      <th>840</th>\n",
              "      <td>856.0</td>\n",
              "      <td>578.210735</td>\n",
              "      <td>277.789265</td>\n",
              "    </tr>\n",
              "    <tr>\n",
              "      <th>...</th>\n",
              "      <td>...</td>\n",
              "      <td>...</td>\n",
              "      <td>...</td>\n",
              "    </tr>\n",
              "    <tr>\n",
              "      <th>645</th>\n",
              "      <td>405.0</td>\n",
              "      <td>689.895108</td>\n",
              "      <td>-284.895108</td>\n",
              "    </tr>\n",
              "    <tr>\n",
              "      <th>470</th>\n",
              "      <td>394.0</td>\n",
              "      <td>696.614638</td>\n",
              "      <td>-302.614638</td>\n",
              "    </tr>\n",
              "    <tr>\n",
              "      <th>978</th>\n",
              "      <td>660.0</td>\n",
              "      <td>970.348928</td>\n",
              "      <td>-310.348928</td>\n",
              "    </tr>\n",
              "    <tr>\n",
              "      <th>469</th>\n",
              "      <td>311.0</td>\n",
              "      <td>733.151225</td>\n",
              "      <td>-422.151225</td>\n",
              "    </tr>\n",
              "    <tr>\n",
              "      <th>951</th>\n",
              "      <td>462.0</td>\n",
              "      <td>890.078044</td>\n",
              "      <td>-428.078044</td>\n",
              "    </tr>\n",
              "  </tbody>\n",
              "</table>\n",
              "<p>362 rows × 3 columns</p>\n",
              "</div>\n",
              "      <button class=\"colab-df-convert\" onclick=\"convertToInteractive('df-6351a4f1-e897-4577-a409-55edf1392ac3')\"\n",
              "              title=\"Convert this dataframe to an interactive table.\"\n",
              "              style=\"display:none;\">\n",
              "        \n",
              "  <svg xmlns=\"http://www.w3.org/2000/svg\" height=\"24px\"viewBox=\"0 0 24 24\"\n",
              "       width=\"24px\">\n",
              "    <path d=\"M0 0h24v24H0V0z\" fill=\"none\"/>\n",
              "    <path d=\"M18.56 5.44l.94 2.06.94-2.06 2.06-.94-2.06-.94-.94-2.06-.94 2.06-2.06.94zm-11 1L8.5 8.5l.94-2.06 2.06-.94-2.06-.94L8.5 2.5l-.94 2.06-2.06.94zm10 10l.94 2.06.94-2.06 2.06-.94-2.06-.94-.94-2.06-.94 2.06-2.06.94z\"/><path d=\"M17.41 7.96l-1.37-1.37c-.4-.4-.92-.59-1.43-.59-.52 0-1.04.2-1.43.59L10.3 9.45l-7.72 7.72c-.78.78-.78 2.05 0 2.83L4 21.41c.39.39.9.59 1.41.59.51 0 1.02-.2 1.41-.59l7.78-7.78 2.81-2.81c.8-.78.8-2.07 0-2.86zM5.41 20L4 18.59l7.72-7.72 1.47 1.35L5.41 20z\"/>\n",
              "  </svg>\n",
              "      </button>\n",
              "      \n",
              "  <style>\n",
              "    .colab-df-container {\n",
              "      display:flex;\n",
              "      flex-wrap:wrap;\n",
              "      gap: 12px;\n",
              "    }\n",
              "\n",
              "    .colab-df-convert {\n",
              "      background-color: #E8F0FE;\n",
              "      border: none;\n",
              "      border-radius: 50%;\n",
              "      cursor: pointer;\n",
              "      display: none;\n",
              "      fill: #1967D2;\n",
              "      height: 32px;\n",
              "      padding: 0 0 0 0;\n",
              "      width: 32px;\n",
              "    }\n",
              "\n",
              "    .colab-df-convert:hover {\n",
              "      background-color: #E2EBFA;\n",
              "      box-shadow: 0px 1px 2px rgba(60, 64, 67, 0.3), 0px 1px 3px 1px rgba(60, 64, 67, 0.15);\n",
              "      fill: #174EA6;\n",
              "    }\n",
              "\n",
              "    [theme=dark] .colab-df-convert {\n",
              "      background-color: #3B4455;\n",
              "      fill: #D2E3FC;\n",
              "    }\n",
              "\n",
              "    [theme=dark] .colab-df-convert:hover {\n",
              "      background-color: #434B5C;\n",
              "      box-shadow: 0px 1px 3px 1px rgba(0, 0, 0, 0.15);\n",
              "      filter: drop-shadow(0px 1px 2px rgba(0, 0, 0, 0.3));\n",
              "      fill: #FFFFFF;\n",
              "    }\n",
              "  </style>\n",
              "\n",
              "      <script>\n",
              "        const buttonEl =\n",
              "          document.querySelector('#df-6351a4f1-e897-4577-a409-55edf1392ac3 button.colab-df-convert');\n",
              "        buttonEl.style.display =\n",
              "          google.colab.kernel.accessAllowed ? 'block' : 'none';\n",
              "\n",
              "        async function convertToInteractive(key) {\n",
              "          const element = document.querySelector('#df-6351a4f1-e897-4577-a409-55edf1392ac3');\n",
              "          const dataTable =\n",
              "            await google.colab.kernel.invokeFunction('convertToInteractive',\n",
              "                                                     [key], {});\n",
              "          if (!dataTable) return;\n",
              "\n",
              "          const docLinkHtml = 'Like what you see? Visit the ' +\n",
              "            '<a target=\"_blank\" href=https://colab.research.google.com/notebooks/data_table.ipynb>data table notebook</a>'\n",
              "            + ' to learn more about interactive tables.';\n",
              "          element.innerHTML = '';\n",
              "          dataTable['output_type'] = 'display_data';\n",
              "          await google.colab.output.renderOutput(dataTable, element);\n",
              "          const docLink = document.createElement('div');\n",
              "          docLink.innerHTML = docLinkHtml;\n",
              "          element.appendChild(docLink);\n",
              "        }\n",
              "      </script>\n",
              "    </div>\n",
              "  </div>\n",
              "  "
            ]
          },
          "metadata": {},
          "execution_count": 39
        }
      ]
    },
    {
      "cell_type": "code",
      "source": [
        "#displot으로 분포 정도를 확인해서 모델 결과를 예측할 수 있음\n",
        "sns.distplot(result['diff'])"
      ],
      "metadata": {
        "colab": {
          "base_uri": "https://localhost:8080/",
          "height": 297
        },
        "id": "5wRWGKFioPm1",
        "outputId": "75e65667-67d7-444f-bc0d-c72605b6f3f4"
      },
      "execution_count": null,
      "outputs": [
        {
          "output_type": "execute_result",
          "data": {
            "text/plain": [
              "<matplotlib.axes._subplots.AxesSubplot at 0x7f8c95ec0d90>"
            ]
          },
          "metadata": {},
          "execution_count": 56
        },
        {
          "output_type": "display_data",
          "data": {
            "text/plain": [
              "<Figure size 432x288 with 1 Axes>"
            ],
            "image/png": "[encoded data removed]"
          },
          "metadata": {}
        }
      ]
    },
    {
      "cell_type": "code",
      "source": [
        "# 200 이상 diff에 대한 비중 분석\n",
        " # 200이상/전체 로 비중 분석\n",
        "len(result[abs(result['diff']) > 200])/len(result)\n",
        " #5%가량 200이상 차이가 난다"
      ],
      "metadata": {
        "colab": {
          "base_uri": "https://localhost:8080/"
        },
        "id": "i0imSVoRoeJB",
        "outputId": "ca524e2b-44ac-4cb9-9b70-43c85c7fc972"
      },
      "execution_count": null,
      "outputs": [
        {
          "output_type": "execute_result",
          "data": {
            "text/plain": [
              "0.058011049723756904"
            ]
          },
          "metadata": {},
          "execution_count": 58
        }
      ]
    },
    {
      "cell_type": "code",
      "source": [
        "# ▶ Test set 어느정도 적절하게 Fitting 되어 있음 (선형)\n",
        "sns.scatterplot(result['Real Values'], result['Predicted Values'])\n",
        "plt.gcf().set_size_inches(10 ,10)"
      ],
      "metadata": {
        "colab": {
          "base_uri": "https://localhost:8080/",
          "height": 606
        },
        "id": "PrXURgpbVvB7",
        "outputId": "665600fe-abe7-4993-9385-9e7738245693"
      },
      "execution_count": null,
      "outputs": [
        {
          "output_type": "display_data",
          "data": {
            "text/plain": [
              "<Figure size 720x720 with 1 Axes>"
            ],
            "image/png": "[encoded data removed]"
          },
          "metadata": {}
        }
      ]
    },
    {
      "cell_type": "markdown",
      "source": [
        "### · 중요 변수 파악\n",
        "---\n",
        "* Feature IMP 분석을 통한 중요변수 파악"
      ],
      "metadata": {
        "id": "AITguNWmVxX8"
      }
    },
    {
      "cell_type": "code",
      "source": [
        "import matplotlib.pyplot as plt\n",
        "import seaborn as sns\n",
        "%matplotlib inline\n",
        "\n",
        "# ▶ 한글 출력을 위해 필수\n",
        " #이전에 했으면 안 해도 됨\n",
        "#plt.rc('font', family='NanumBarunGothic')\n",
        "\n",
        "plt.style.use(['dark_background'])\n",
        "\n",
        "ftr_importances_values = rfr.feature_importances_\n",
        "ftr_importances = pd.Series(ftr_importances_values, index = x_train.columns)\n",
        "ftr_top20 = ftr_importances.sort_values(ascending=False)[:20]\n",
        "\n",
        "plt.figure(figsize=(8,6))\n",
        "plt.title('Feature Importances')\n",
        "sns.barplot(x=ftr_top20, y=ftr_top20.index)\n",
        "plt.show()\n",
        "\n",
        "#조식메뉴와 중식메뉴는 중요 변수로 영향을 안 미치는 걸로 결과가 나옴..\n",
        " #이렇게 거의 안 중요한 변수들은 없에고 모델링을 하는게 더 좋은 결과를 불러올 수 있음"
      ],
      "metadata": {
        "colab": {
          "base_uri": "https://localhost:8080/",
          "height": 389
        },
        "id": "BoQZMqzcYjNL",
        "outputId": "5681d60c-8e80-41e0-a5af-a90a5cc88616"
      },
      "execution_count": null,
      "outputs": [
        {
          "output_type": "display_data",
          "data": {
            "text/plain": [
              "<Figure size 576x432 with 1 Axes>"
            ],
            "image/png": "[encoded data removed]"
          },
          "metadata": {}
        }
      ]
    },
    {
      "cell_type": "code",
      "source": [
        "# ▶ 요일에 따라 중식 영향을 미치는 것으 상식적인 것\n",
        "# ▶ 조식메뉴_main에 따른 식수 인원 탐색 한번 해봄\n",
        "df.groupby('조식메뉴_main')['중식계'].mean().sort_values(ascending=False).head(10)"
      ],
      "metadata": {
        "colab": {
          "base_uri": "https://localhost:8080/"
        },
        "id": "1k2cVjXd0XJq",
        "outputId": "6ad6f003-1f50-4373-f77a-e233285591ba"
      },
      "execution_count": null,
      "outputs": [
        {
          "output_type": "execute_result",
          "data": {
            "text/plain": [
              "조식메뉴_main\n",
              "모닝롤/고구마오븐구이          1329.000000\n",
              "모닝롤/(New)오리훈제샌드위치    1324.000000\n",
              "모카카스테라/베이글           1298.000000\n",
              "모닝롤/롤케이크             1286.000000\n",
              "모닝롤/증편               1257.000000\n",
              "모닝롤/소보로빵             1256.000000\n",
              "모닝롤/생크림와플            1254.000000\n",
              "모닝롤/바나나팬케익           1248.666667\n",
              "모닝롤/후르츠팬케익           1242.333333\n",
              "모닝롤/파운드케익            1233.500000\n",
              "Name: 중식계, dtype: float64"
            ]
          },
          "metadata": {},
          "execution_count": 44
        }
      ]
    },
    {
      "cell_type": "code",
      "source": [
        "# ▶ 특별한 차이는 없어 보인다\n",
        "df.groupby('조식메뉴_main')['중식계'].mean().sort_values(ascending=False).tail(10)"
      ],
      "metadata": {
        "colab": {
          "base_uri": "https://localhost:8080/"
        },
        "id": "j4Y3594iQw18",
        "outputId": "50af5a28-e6a0-436e-e9cf-f0d1a8d688ae"
      },
      "execution_count": null,
      "outputs": [
        {
          "output_type": "execute_result",
          "data": {
            "text/plain": [
              "조식메뉴_main\n",
              "모닝롤/대만식연유샌드위치     594.0\n",
              "모닝롤/블루베리사과샌드      591.0\n",
              "모닝롤/케익            573.0\n",
              "모닝롤/미니케익          565.0\n",
              "모닝롤/모닝샌드          527.0\n",
              "모닝롤/팥호빵           520.0\n",
              "모닝롤/계란빵           477.0\n",
              "모닝롤/마약토스트         476.0\n",
              "모닝롤/스콘            450.0\n",
              "모닝롤/블루베리프렌치토스트    398.0\n",
              "Name: 중식계, dtype: float64"
            ]
          },
          "metadata": {},
          "execution_count": 62
        }
      ]
    },
    {
      "cell_type": "markdown",
      "source": [
        "### · 모델 Save and Read\n",
        "---\n",
        "* 최종 모델을 저장 및 다시 불러오기"
      ],
      "metadata": {
        "id": "aq904NijYyWm"
      }
    },
    {
      "cell_type": "code",
      "source": [
        "import pickle\n",
        "# 모델 저장\n",
        "saved_model = pickle.dumps(rfr)\n",
        "\n",
        "# 모델 Read\n",
        "rfr_from_pickle = pickle.loads(saved_model)"
      ],
      "metadata": {
        "id": "mn9_iA3wZyU0"
      },
      "execution_count": null,
      "outputs": []
    }
  ]
}